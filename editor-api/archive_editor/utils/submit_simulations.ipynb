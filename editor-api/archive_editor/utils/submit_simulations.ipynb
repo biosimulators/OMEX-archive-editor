{
 "nbformat": 4,
 "nbformat_minor": 0,
 "metadata": {
  "colab": {
   "provenance": []
  },
  "kernelspec": {
   "name": "python3",
   "display_name": "Python 3"
  },
  "language_info": {
   "name": "python"
  }
 },
 "cells": [
  {
   "cell_type": "code",
   "execution_count": null,
   "metadata": {
    "colab": {
     "base_uri": "https://localhost:8080/"
    },
    "id": "j_m2M5FfUkoi",
    "outputId": "d3a65793-05d6-42fd-ec14-ae96a938c797"
   },
   "outputs": [
    {
     "output_type": "stream",
     "name": "stdout",
     "text": [
      "Collecting biosimulators-utils\n",
      "  Downloading biosimulators_utils-0.1.186-py2.py3-none-any.whl (546 kB)\n",
      "\u001B[2K     \u001B[90m━━━━━━━━━━━━━━━━━━━━━━━━━━━━━━━━━━━━━━━━\u001B[0m \u001B[32m547.0/547.0 kB\u001B[0m \u001B[31m8.0 MB/s\u001B[0m eta \u001B[36m0:00:00\u001B[0m\n",
      "\u001B[?25hCollecting smoldyn\n",
      "  Downloading smoldyn-2.72-cp310-cp310-manylinux_2_17_x86_64.manylinux2014_x86_64.whl (2.7 MB)\n",
      "\u001B[2K     \u001B[90m━━━━━━━━━━━━━━━━━━━━━━━━━━━━━━━━━━━━━━━━\u001B[0m \u001B[32m2.7/2.7 MB\u001B[0m \u001B[31m10.8 MB/s\u001B[0m eta \u001B[36m0:00:00\u001B[0m\n",
      "\u001B[?25hRequirement already satisfied: appdirs in /usr/local/lib/python3.10/dist-packages (from biosimulators-utils) (1.4.4)\n",
      "Collecting biopython (from biosimulators-utils)\n",
      "  Downloading biopython-1.83-cp310-cp310-manylinux_2_17_x86_64.manylinux2014_x86_64.whl (3.1 MB)\n",
      "\u001B[2K     \u001B[90m━━━━━━━━━━━━━━━━━━━━━━━━━━━━━━━━━━━━━━━━\u001B[0m \u001B[32m3.1/3.1 MB\u001B[0m \u001B[31m32.0 MB/s\u001B[0m eta \u001B[36m0:00:00\u001B[0m\n",
      "\u001B[?25hCollecting cement (from biosimulators-utils)\n",
      "  Downloading cement-3.0.8-py3-none-any.whl (306 kB)\n",
      "\u001B[2K     \u001B[90m━━━━━━━━━━━━━━━━━━━━━━━━━━━━━━━━━━━━━━━━\u001B[0m \u001B[32m306.7/306.7 kB\u001B[0m \u001B[31m30.7 MB/s\u001B[0m eta \u001B[36m0:00:00\u001B[0m\n",
      "\u001B[?25hCollecting evalidate>=2.0.0 (from biosimulators-utils)\n",
      "  Downloading evalidate-2.0.2-py3-none-any.whl (8.5 kB)\n",
      "Requirement already satisfied: h5py in /usr/local/lib/python3.10/dist-packages (from biosimulators-utils) (3.9.0)\n",
      "Collecting kisao>=2.33 (from biosimulators-utils)\n",
      "  Downloading kisao-2.33-py2.py3-none-any.whl (111 kB)\n",
      "\u001B[2K     \u001B[90m━━━━━━━━━━━━━━━━━━━━━━━━━━━━━━━━━━━━━━━━\u001B[0m \u001B[32m111.2/111.2 kB\u001B[0m \u001B[31m12.8 MB/s\u001B[0m eta \u001B[36m0:00:00\u001B[0m\n",
      "\u001B[?25hRequirement already satisfied: lxml in /usr/local/lib/python3.10/dist-packages (from biosimulators-utils) (4.9.4)\n",
      "Requirement already satisfied: matplotlib in /usr/local/lib/python3.10/dist-packages (from biosimulators-utils) (3.7.1)\n",
      "Requirement already satisfied: mpmath in /usr/local/lib/python3.10/dist-packages (from biosimulators-utils) (1.3.0)\n",
      "Requirement already satisfied: natsort in /usr/local/lib/python3.10/dist-packages (from biosimulators-utils) (8.4.0)\n",
      "Requirement already satisfied: networkx>=2.6 in /usr/local/lib/python3.10/dist-packages (from biosimulators-utils) (3.2.1)\n",
      "Requirement already satisfied: numpy in /usr/local/lib/python3.10/dist-packages (from biosimulators-utils) (1.23.5)\n",
      "Requirement already satisfied: openpyxl in /usr/local/lib/python3.10/dist-packages (from biosimulators-utils) (3.1.2)\n",
      "Requirement already satisfied: pandas in /usr/local/lib/python3.10/dist-packages (from biosimulators-utils) (1.5.3)\n",
      "Collecting pronto>=2.4 (from biosimulators-utils)\n",
      "  Downloading pronto-2.5.5-py2.py3-none-any.whl (61 kB)\n",
      "\u001B[2K     \u001B[90m━━━━━━━━━━━━━━━━━━━━━━━━━━━━━━━━━━━━━━━━\u001B[0m \u001B[32m61.5/61.5 kB\u001B[0m \u001B[31m9.2 MB/s\u001B[0m eta \u001B[36m0:00:00\u001B[0m\n",
      "\u001B[?25hCollecting pyomexmeta>=1.2.13 (from biosimulators-utils)\n",
      "  Downloading pyomexmeta-1.2.14-cp310-cp310-manylinux2014_x86_64.whl (5.5 MB)\n",
      "\u001B[2K     \u001B[90m━━━━━━━━━━━━━━━━━━━━━━━━━━━━━━━━━━━━━━━━\u001B[0m \u001B[32m5.5/5.5 MB\u001B[0m \u001B[31m48.3 MB/s\u001B[0m eta \u001B[36m0:00:00\u001B[0m\n",
      "\u001B[?25hRequirement already satisfied: python-dateutil in /usr/local/lib/python3.10/dist-packages (from biosimulators-utils) (2.8.2)\n",
      "Collecting python-libcombine>=0.2.11 (from biosimulators-utils)\n",
      "  Downloading python_libcombine-0.2.20-cp310-cp310-manylinux_2_17_x86_64.manylinux2014_x86_64.whl (2.6 MB)\n",
      "\u001B[2K     \u001B[90m━━━━━━━━━━━━━━━━━━━━━━━━━━━━━━━━━━━━━━━━\u001B[0m \u001B[32m2.6/2.6 MB\u001B[0m \u001B[31m62.9 MB/s\u001B[0m eta \u001B[36m0:00:00\u001B[0m\n",
      "\u001B[?25hCollecting python-libsedml>=2.0.16 (from biosimulators-utils)\n",
      "  Downloading python_libsedml-2.0.32-cp310-cp310-manylinux_2_17_x86_64.manylinux2014_x86_64.whl (3.3 MB)\n",
      "\u001B[2K     \u001B[90m━━━━━━━━━━━━━━━━━━━━━━━━━━━━━━━━━━━━━━━━\u001B[0m \u001B[32m3.3/3.3 MB\u001B[0m \u001B[31m77.9 MB/s\u001B[0m eta \u001B[36m0:00:00\u001B[0m\n",
      "\u001B[?25hRequirement already satisfied: pyyaml in /usr/local/lib/python3.10/dist-packages (from biosimulators-utils) (6.0.1)\n",
      "Collecting rdflib (from biosimulators-utils)\n",
      "  Downloading rdflib-7.0.0-py3-none-any.whl (531 kB)\n",
      "\u001B[2K     \u001B[90m━━━━━━━━━━━━━━━━━━━━━━━━━━━━━━━━━━━━━━━━\u001B[0m \u001B[32m531.9/531.9 kB\u001B[0m \u001B[31m54.1 MB/s\u001B[0m eta \u001B[36m0:00:00\u001B[0m\n",
      "\u001B[?25hRequirement already satisfied: regex in /usr/local/lib/python3.10/dist-packages (from biosimulators-utils) (2023.12.25)\n",
      "Requirement already satisfied: requests in /usr/local/lib/python3.10/dist-packages (from biosimulators-utils) (2.31.0)\n",
      "Requirement already satisfied: setuptools in /usr/local/lib/python3.10/dist-packages (from biosimulators-utils) (67.7.2)\n",
      "Collecting simplejson (from biosimulators-utils)\n",
      "  Downloading simplejson-3.19.2-cp310-cp310-manylinux_2_5_x86_64.manylinux1_x86_64.manylinux_2_17_x86_64.manylinux2014_x86_64.whl (137 kB)\n",
      "\u001B[2K     \u001B[90m━━━━━━━━━━━━━━━━━━━━━━━━━━━━━━━━━━━━━━━━\u001B[0m \u001B[32m137.9/137.9 kB\u001B[0m \u001B[31m17.1 MB/s\u001B[0m eta \u001B[36m0:00:00\u001B[0m\n",
      "\u001B[?25hRequirement already satisfied: termcolor in /usr/local/lib/python3.10/dist-packages (from biosimulators-utils) (2.4.0)\n",
      "Collecting uritools (from biosimulators-utils)\n",
      "  Downloading uritools-4.0.2-py3-none-any.whl (10 kB)\n",
      "Collecting yamldown (from biosimulators-utils)\n",
      "  Downloading yamldown-0.1.8-py3-none-any.whl (4.1 kB)\n",
      "Requirement already satisfied: chardet~=5.0 in /usr/local/lib/python3.10/dist-packages (from pronto>=2.4->biosimulators-utils) (5.2.0)\n",
      "Collecting fastobo~=0.12.2 (from pronto>=2.4->biosimulators-utils)\n",
      "  Downloading fastobo-0.12.3-cp310-cp310-manylinux_2_17_x86_64.manylinux2014_x86_64.whl (2.0 MB)\n",
      "\u001B[2K     \u001B[90m━━━━━━━━━━━━━━━━━━━━━━━━━━━━━━━━━━━━━━━━\u001B[0m \u001B[32m2.0/2.0 MB\u001B[0m \u001B[31m54.8 MB/s\u001B[0m eta \u001B[36m0:00:00\u001B[0m\n",
      "\u001B[?25hRequirement already satisfied: graphviz>=0.15 in /usr/local/lib/python3.10/dist-packages (from pyomexmeta>=1.2.13->biosimulators-utils) (0.20.1)\n",
      "Requirement already satisfied: pydot>=1.4.1 in /usr/local/lib/python3.10/dist-packages (from pyomexmeta>=1.2.13->biosimulators-utils) (1.4.2)\n",
      "Requirement already satisfied: six>=1.5 in /usr/local/lib/python3.10/dist-packages (from python-dateutil->biosimulators-utils) (1.16.0)\n",
      "Requirement already satisfied: contourpy>=1.0.1 in /usr/local/lib/python3.10/dist-packages (from matplotlib->biosimulators-utils) (1.2.0)\n",
      "Requirement already satisfied: cycler>=0.10 in /usr/local/lib/python3.10/dist-packages (from matplotlib->biosimulators-utils) (0.12.1)\n",
      "Requirement already satisfied: fonttools>=4.22.0 in /usr/local/lib/python3.10/dist-packages (from matplotlib->biosimulators-utils) (4.48.1)\n",
      "Requirement already satisfied: kiwisolver>=1.0.1 in /usr/local/lib/python3.10/dist-packages (from matplotlib->biosimulators-utils) (1.4.5)\n",
      "Requirement already satisfied: packaging>=20.0 in /usr/local/lib/python3.10/dist-packages (from matplotlib->biosimulators-utils) (23.2)\n",
      "Requirement already satisfied: pillow>=6.2.0 in /usr/local/lib/python3.10/dist-packages (from matplotlib->biosimulators-utils) (9.4.0)\n",
      "Requirement already satisfied: pyparsing>=2.3.1 in /usr/local/lib/python3.10/dist-packages (from matplotlib->biosimulators-utils) (3.1.1)\n",
      "Requirement already satisfied: et-xmlfile in /usr/local/lib/python3.10/dist-packages (from openpyxl->biosimulators-utils) (1.1.0)\n",
      "Requirement already satisfied: pytz>=2020.1 in /usr/local/lib/python3.10/dist-packages (from pandas->biosimulators-utils) (2023.4)\n",
      "Collecting isodate<0.7.0,>=0.6.0 (from rdflib->biosimulators-utils)\n",
      "  Downloading isodate-0.6.1-py2.py3-none-any.whl (41 kB)\n",
      "\u001B[2K     \u001B[90m━━━━━━━━━━━━━━━━━━━━━━━━━━━━━━━━━━━━━━━━\u001B[0m \u001B[32m41.7/41.7 kB\u001B[0m \u001B[31m4.8 MB/s\u001B[0m eta \u001B[36m0:00:00\u001B[0m\n",
      "\u001B[?25hRequirement already satisfied: charset-normalizer<4,>=2 in /usr/local/lib/python3.10/dist-packages (from requests->biosimulators-utils) (3.3.2)\n",
      "Requirement already satisfied: idna<4,>=2.5 in /usr/local/lib/python3.10/dist-packages (from requests->biosimulators-utils) (3.6)\n",
      "Requirement already satisfied: urllib3<3,>=1.21.1 in /usr/local/lib/python3.10/dist-packages (from requests->biosimulators-utils) (2.0.7)\n",
      "Requirement already satisfied: certifi>=2017.4.17 in /usr/local/lib/python3.10/dist-packages (from requests->biosimulators-utils) (2024.2.2)\n",
      "Installing collected packages: python-libsedml, python-libcombine, evalidate, yamldown, uritools, smoldyn, simplejson, isodate, fastobo, cement, biopython, rdflib, pyomexmeta, pronto, kisao, biosimulators-utils\n",
      "Successfully installed biopython-1.83 biosimulators-utils-0.1.186 cement-3.0.8 evalidate-2.0.2 fastobo-0.12.3 isodate-0.6.1 kisao-2.33 pronto-2.5.5 pyomexmeta-1.2.14 python-libcombine-0.2.20 python-libsedml-2.0.32 rdflib-7.0.0 simplejson-3.19.2 smoldyn-2.72 uritools-4.0.2 yamldown-0.1.8\n"
     ]
    }
   ],
   "source": [
    "!pip install biosimulators-utils smoldyn"
   ]
  },
  {
   "cell_type": "code",
   "source": [
    "import os\n",
    "from google.colab import files"
   ],
   "metadata": {
    "id": "0RouFUrcUsEe"
   },
   "execution_count": null,
   "outputs": []
  },
  {
   "cell_type": "code",
   "source": [
    "!biosimulators-utils build-project --help"
   ],
   "metadata": {
    "colab": {
     "base_uri": "https://localhost:8080/"
    },
    "id": "Tv-l-GURU2s_",
    "outputId": "9cc17e10-81f2-4546-dfab-35b85be84fd0"
   },
   "execution_count": null,
   "outputs": [
    {
     "output_type": "stream",
     "name": "stdout",
     "text": [
      "usage: biosimulators-utils build-project [-h]\n",
      "                                         model-language model-filename simulation-type\n",
      "                                         archive-filename\n",
      "\n",
      "Build a COMBINE/OMEX archive with a SED-ML file for a model\n",
      "\n",
      "positional arguments:\n",
      "  model-language    Model language (`BNGL`, `CellML`, `RBA`, `SBML`, `Smoldyn`, or `XPP`)\n",
      "  model-filename    Path to model\n",
      "  simulation-type   Type of simulation (`OneStep`, `SteadyState`, or `UniformTimeCourse`)\n",
      "  archive-filename  Path to save archive\n",
      "\n",
      "options:\n",
      "  -h, --help        show this help message and exit\n"
     ]
    }
   ]
  },
  {
   "cell_type": "code",
   "source": [
    "print('Upload the smoldyn file')\n",
    "files.upload()"
   ],
   "metadata": {
    "id": "HnInQnI8RGEj"
   },
   "execution_count": null,
   "outputs": []
  },
  {
   "cell_type": "code",
   "source": [
    "!biosimulators-utils build-project \\\n",
    "    Smoldyn \\\n",
    "    /content/model.txt \\\n",
    "    UniformTimeCourse \\\n",
    "    /content/Andrews-Min1-PUBLICATION.omex"
   ],
   "metadata": {
    "id": "qMpMbAhWY1im",
    "colab": {
     "base_uri": "https://localhost:8080/"
    },
    "outputId": "f57e76a0-8d1c-49b0-c50a-afc7c9822d63"
   },
   "execution_count": null,
   "outputs": [
    {
     "output_type": "stream",
     "name": "stdout",
     "text": [
      "--------------------------------------------------------------\n",
      "Running Smoldyn 2.72\n",
      "\n",
      "CONFIGURATION FILE\n",
      " Path: '/content/'\n",
      " Name: 'tmp1fcvwcvl.txt'\n",
      " Reading file: '/content/tmp1fcvwcvl.txt'\n",
      " Loaded file successfully\n",
      " setting up molecules\n",
      " setting up virtual boxes\n",
      " setting up compartments\n",
      " setting up reactions\n",
      " setting up surfaces\n",
      " setting up graphics\n",
      "\n",
      "SIMULATION PARAMETERS\n",
      " file: /content/tmp1fcvwcvl.txt\n",
      " starting clock time: Sat Feb 10 13:07:41 2024\n",
      " 3 dimensions\n",
      " Accuracy level: 5\n",
      " Random number seed: 1\n",
      " Time from 0 to 10 step 0.002\n",
      "\n",
      "GRAPHICS PARAMETERS\n",
      " No graphical output\n",
      "\n",
      "WALL PARAMETERS\n",
      " wall 0: dimension x, at -2\n",
      " wall 1: dimension x, at 2\n",
      " wall 2: dimension y, at -0.5\n",
      " wall 3: dimension y, at 0.5\n",
      " wall 4: dimension z, at -0.5\n",
      " wall 5: dimension z, at 0.5\n",
      " system volume: 4\n",
      " system corners: (-2,-0.5,-0.5) and (2,0.5,0.5)\n",
      "\n",
      "MOLECULE PARAMETERS\n",
      " 6 molecule lists:\n",
      "  list1, list2, list3, list4, list5, unassignedlist\n",
      " 4 species defined:\n",
      " MinD_ATP:\n",
      "  solution: difc=2.5, rms step=0.1, list=list1, number=0\n",
      "  front: difc=0.01, rms step=0.00632456, list=list2, number=4000\n",
      "  solution: color= 0,0,0.6, display size= 2\n",
      "  front: color= 0,0.6,0, display size= 4\n",
      " MinD_ADP:\n",
      "  solution: difc=2.5, rms step=0.1, list=list3, number=0\n",
      "  solution: color= 0.4,0.6,1, display size= 2\n",
      " MinE:\n",
      "  solution: difc=2.5, rms step=0.1, list=list4, number=1400\n",
      "  solution: color= 1,0,0, display size= 2\n",
      " MinDMinE:\n",
      "  front: difc=0.01, rms step=0.00632456, list=list5, number=0\n",
      "  front: color= 0.2,1,0.2, display size= 4\n",
      " Overall spatial resolution: 0.1\n",
      "\n",
      "SURFACE PARAMETERS\n",
      " Surface epsilon, margin, and neighbor distances: 2.22045e-14 2.22045e-14 2.22045e-15\n",
      " Molecule lists checked after diffusion: list1 list2 list3 list4 list5\n",
      " Molecule lists checked after reactions: list2 list5\n",
      " Molecule lists checked for surface-bound molecules: list2 list3 list4 list5 unassignedlist\n",
      " Surfaces defined: 1\n",
      "\n",
      " Surface: membrane\n",
      "  actions for molecules:\n",
      "   MinD_ATP(front) at front: transmit\n",
      "   MinD_ATP(solution) at back: reflect\n",
      "   MinD_ATP(front) at back: transmit\n",
      "   MinD_ADP(solution) at front: reflect\n",
      "   MinD_ADP(solution) at back: reflect\n",
      "   MinE(solution) at front: reflect\n",
      "   MinE(solution) at back: reflect\n",
      "   MinDMinE(front) at front: transmit\n",
      "   MinDMinE(front) at back: transmit\n",
      "  rates for molecules:\n",
      "    MinD_ATP(solution) solution -> front, requested rate=0.025, actual rate=0.0249991, prob=0.0012519\n",
      "  surface-bound molecules do not hop between neighboring panels upon collision\n",
      "  front color: 0 0 0 1\n",
      "  back color: 0 0 0 1\n",
      "  edge points: 1, polygon modes: edge edge\n",
      "  cylinder panels allocated: 1, defined: 1\n",
      "   cyl0: (-1.5,0,0) to (1.5,0,0), R=0.5, facing: in, draw: 20 10, area: 9.42478\n",
      "  hemisphere panels allocated: 3, defined: 2\n",
      "   hemi0: (-1.5,0,0), R=0.5, facing: in, opening: (1,0,0), draw: 20 5, area: 1.5708\n",
      "   hemi1: (1.5,0,0), R=0.5, facing: in, opening: (-1,0,0), draw: 20 5, area: 1.5708\n",
      "\n",
      "RUNTIME COMMAND INTERPRETER\n",
      " Output file root: '/content/'\n",
      " Output file paths and names:\n",
      "  modelout.txt (file closed): /content/modelout.txt\n",
      " No output data tables\n",
      " Commands:\n",
      "  i from: 0 to: 10 step: 2 'executiontime modelout.txt' (observe)\n",
      "  i from: 0 to: 10 step: 2 'listmols modelout.txt' (observe)\n",
      "\n",
      "VIRTUAL BOX PARAMETERS\n",
      " 1372 boxes\n",
      " Number of boxes on each side: 28 7 7\n",
      " Requested molecules per box: 4\n",
      " Box dimensions:  0.142857 0.142857 0.142857\n",
      " Box volumes: 0.00291545\n",
      " Molecules per box= 3.93586\n",
      "\n",
      "ORDER 0 REACTION PARAMETERS\n",
      " No reactions of order 0\n",
      "\n",
      "ORDER 1 REACTION PARAMETERS\n",
      " 2 reactions defined\n",
      " Reactive molecule lists: list3 list5\n",
      " Reactants, sorted by molecule species:\n",
      "  MinD_ADP : rxn4\n",
      "  MinDMinE : rxn3\n",
      " Reaction details:\n",
      "  Reaction rxn3: MinDMinE (front) -> MinD_ADP + MinE\n",
      "   requested and actual rate constants: 0.7, 0.7\n",
      "   characteristic time: 1.42857\n",
      "   conditional reaction probability per time step: 0.00139902\n",
      "   unbinding radius: 0\n",
      "  Reaction rxn4: MinD_ADP -> MinD_ATP\n",
      "   requested and actual rate constants: 1, 1\n",
      "   characteristic time: 1\n",
      "   conditional reaction probability per time step: 0.001998\n",
      "\n",
      "ORDER 2 REACTION PARAMETERS\n",
      " 3 reactions defined\n",
      " Reactive molecule lists: list2+list1 list5+list1 list1+list2 list4+list2 list2+list4 list1+list5\n",
      " Reactants, sorted by molecule species:\n",
      "  MinD_ATP+MinD_ATP : rxn1b\n",
      "  MinD_ATP+MinE : rxn2\n",
      "  MinD_ATP+MinDMinE : rxn1c\n",
      " Reaction details:\n",
      "  Reaction rxn1b: MinD_ATP + MinD_ATP (front) -> MinD_ATP (front) + MinD_ATP (front)\n",
      "   requested and actual rate constants: 0.0015, 0.00150008\n",
      "   characteristic time: 1.33326\n",
      "   binding radius: 0.0142114\n",
      "   unbinding radius: 0.01\n",
      "   product placement method and parameter: unbindrad 0.01\n",
      "   product MinD_ATP displacement: 0.005 0 0\n",
      "   product MinD_ATP displacement: -0.005 0 0\n",
      "   probability of geminate reverse reaction 'rxn1b' is 0.640142\n",
      "  Reaction rxn1c: MinD_ATP + MinDMinE (front) -> MinD_ATP (front) + MinDMinE (front)\n",
      "   requested and actual rate constants: 0.0015, 0.00150008\n",
      "   characteristic time: inf\n",
      "   binding radius: 0.0112758\n",
      "   unbinding radius: 0.01\n",
      "   product placement method and parameter: unbindrad 0.01\n",
      "   product MinD_ATP displacement: 0.005 0 0\n",
      "   product MinDMinE displacement: -0.005 0 0\n",
      "   probability of geminate reverse reaction 'rxn1c' is 0.467451\n",
      "  Reaction rxn2: MinE + MinD_ATP (front) -> MinDMinE (front)\n",
      "   requested and actual rate constants: 0.093, 0.093003\n",
      "   characteristic time: 0.0414733\n",
      "   binding radius: 0.0455085\n",
      "\n",
      "RULES:\n",
      " none\n",
      "\n",
      "COMPARTMENT PARAMETERS\n",
      " Compartments allocated: 5, compartments defined: 1\n",
      " Compartment: cell\n",
      "  1 bounding surfaces:\n",
      "   membrane\n",
      "  1 interior-defining points:\n",
      "   0: (0,0,0)\n",
      "  0 logically combined compartments\n",
      "  volume: 2.87778\n",
      "  1214 virtual boxes listed\n",
      "\n",
      "PARAMETER CHECK\n",
      " WARNING: reactive volume of MinE is 13.8177 % of total volume\n",
      " WARNING: total reactive volume is a large fraction of total volume\n",
      " No errors\n",
      " 2 total warnings\n",
      "\n",
      "Simulating\n",
      "Libsmoldyn notification from smolRunSim: Simulation complete\n",
      "--------------------------------------------------------------\n",
      "Running Smoldyn 2.72\n",
      "\n",
      "CONFIGURATION FILE\n",
      " Path: '/tmp/tmp2boh17di/'\n",
      " Name: 'tmp9b8d8dpi.txt'\n",
      " Reading file: '/tmp/tmp2boh17di/tmp9b8d8dpi.txt'\n",
      " Loaded file successfully\n",
      " setting up molecules\n",
      " setting up virtual boxes\n",
      " setting up compartments\n",
      " setting up reactions\n",
      " setting up surfaces\n",
      " setting up graphics\n",
      "\n",
      "SIMULATION PARAMETERS\n",
      " file: /tmp/tmp2boh17di/tmp9b8d8dpi.txt\n",
      " starting clock time: Sat Feb 10 13:07:41 2024\n",
      " 3 dimensions\n",
      " Accuracy level: 5\n",
      " Random number seed: 1\n",
      " Time from 0 to 10 step 0.002\n",
      "\n",
      "GRAPHICS PARAMETERS\n",
      " No graphical output\n",
      "\n",
      "WALL PARAMETERS\n",
      " wall 0: dimension x, at -2\n",
      " wall 1: dimension x, at 2\n",
      " wall 2: dimension y, at -0.5\n",
      " wall 3: dimension y, at 0.5\n",
      " wall 4: dimension z, at -0.5\n",
      " wall 5: dimension z, at 0.5\n",
      " system volume: 4\n",
      " system corners: (-2,-0.5,-0.5) and (2,0.5,0.5)\n",
      "\n",
      "MOLECULE PARAMETERS\n",
      " 6 molecule lists:\n",
      "  list1, list2, list3, list4, list5, unassignedlist\n",
      " 4 species defined:\n",
      " MinD_ATP:\n",
      "  solution: difc=2.5, rms step=0.1, list=list1, number=0\n",
      "  front: difc=0.01, rms step=0.00632456, list=list2, number=4000\n",
      "  solution: color= 0,0,0.6, display size= 2\n",
      "  front: color= 0,0.6,0, display size= 4\n",
      " MinD_ADP:\n",
      "  solution: difc=2.5, rms step=0.1, list=list3, number=0\n",
      "  solution: color= 0.4,0.6,1, display size= 2\n",
      " MinE:\n",
      "  solution: difc=2.5, rms step=0.1, list=list4, number=1400\n",
      "  solution: color= 1,0,0, display size= 2\n",
      " MinDMinE:\n",
      "  front: difc=0.01, rms step=0.00632456, list=list5, number=0\n",
      "  front: color= 0.2,1,0.2, display size= 4\n",
      " Overall spatial resolution: 0.1\n",
      "\n",
      "SURFACE PARAMETERS\n",
      " Surface epsilon, margin, and neighbor distances: 2.22045e-14 2.22045e-14 2.22045e-15\n",
      " Molecule lists checked after diffusion: list1 list2 list3 list4 list5\n",
      " Molecule lists checked after reactions: list2 list5\n",
      " Molecule lists checked for surface-bound molecules: list2 list3 list4 list5 unassignedlist\n",
      " Surfaces defined: 1\n",
      "\n",
      " Surface: membrane\n",
      "  actions for molecules:\n",
      "   MinD_ATP(front) at front: transmit\n",
      "   MinD_ATP(solution) at back: reflect\n",
      "   MinD_ATP(front) at back: transmit\n",
      "   MinD_ADP(solution) at front: reflect\n",
      "   MinD_ADP(solution) at back: reflect\n",
      "   MinE(solution) at front: reflect\n",
      "   MinE(solution) at back: reflect\n",
      "   MinDMinE(front) at front: transmit\n",
      "   MinDMinE(front) at back: transmit\n",
      "  rates for molecules:\n",
      "    MinD_ATP(solution) solution -> front, requested rate=0.025, actual rate=0.0249991, prob=0.0012519\n",
      "  surface-bound molecules do not hop between neighboring panels upon collision\n",
      "  front color: 0 0 0 1\n",
      "  back color: 0 0 0 1\n",
      "  edge points: 1, polygon modes: edge edge\n",
      "  cylinder panels allocated: 1, defined: 1\n",
      "   cyl0: (-1.5,0,0) to (1.5,0,0), R=0.5, facing: in, draw: 20 10, area: 9.42478\n",
      "  hemisphere panels allocated: 3, defined: 2\n",
      "   hemi0: (-1.5,0,0), R=0.5, facing: in, opening: (1,0,0), draw: 20 5, area: 1.5708\n",
      "   hemi1: (1.5,0,0), R=0.5, facing: in, opening: (-1,0,0), draw: 20 5, area: 1.5708\n",
      "\n",
      "RUNTIME COMMAND INTERPRETER\n",
      " Output file root: '/tmp/tmp2boh17di/'\n",
      " Output file paths and names:\n",
      "  modelout.txt (file closed): /tmp/tmp2boh17di/modelout.txt\n",
      " No output data tables\n",
      " Commands:\n",
      "  i from: 0 to: 10 step: 2 'executiontime modelout.txt' (observe)\n",
      "  i from: 0 to: 10 step: 2 'listmols modelout.txt' (observe)\n",
      "\n",
      "VIRTUAL BOX PARAMETERS\n",
      " 1372 boxes\n",
      " Number of boxes on each side: 28 7 7\n",
      " Requested molecules per box: 4\n",
      " Box dimensions:  0.142857 0.142857 0.142857\n",
      " Box volumes: 0.00291545\n",
      " Molecules per box= 3.93586\n",
      "\n",
      "ORDER 0 REACTION PARAMETERS\n",
      " No reactions of order 0\n",
      "\n",
      "ORDER 1 REACTION PARAMETERS\n",
      " 2 reactions defined\n",
      " Reactive molecule lists: list3 list5\n",
      " Reactants, sorted by molecule species:\n",
      "  MinD_ADP : rxn4\n",
      "  MinDMinE : rxn3\n",
      " Reaction details:\n",
      "  Reaction rxn3: MinDMinE (front) -> MinD_ADP + MinE\n",
      "   requested and actual rate constants: 0.7, 0.7\n",
      "   characteristic time: 1.42857\n",
      "   conditional reaction probability per time step: 0.00139902\n",
      "   unbinding radius: 0\n",
      "  Reaction rxn4: MinD_ADP -> MinD_ATP\n",
      "   requested and actual rate constants: 1, 1\n",
      "   characteristic time: 1\n",
      "   conditional reaction probability per time step: 0.001998\n",
      "\n",
      "ORDER 2 REACTION PARAMETERS\n",
      " 3 reactions defined\n",
      " Reactive molecule lists: list2+list1 list5+list1 list1+list2 list4+list2 list2+list4 list1+list5\n",
      " Reactants, sorted by molecule species:\n",
      "  MinD_ATP+MinD_ATP : rxn1b\n",
      "  MinD_ATP+MinE : rxn2\n",
      "  MinD_ATP+MinDMinE : rxn1c\n",
      " Reaction details:\n",
      "  Reaction rxn1b: MinD_ATP + MinD_ATP (front) -> MinD_ATP (front) + MinD_ATP (front)\n",
      "   requested and actual rate constants: 0.0015, 0.00150008\n",
      "   characteristic time: 1.33326\n",
      "   binding radius: 0.0142114\n",
      "   unbinding radius: 0.01\n",
      "   product placement method and parameter: unbindrad 0.01\n",
      "   product MinD_ATP displacement: 0.005 0 0\n",
      "   product MinD_ATP displacement: -0.005 0 0\n",
      "   probability of geminate reverse reaction 'rxn1b' is 0.640142\n",
      "  Reaction rxn1c: MinD_ATP + MinDMinE (front) -> MinD_ATP (front) + MinDMinE (front)\n",
      "   requested and actual rate constants: 0.0015, 0.00150008\n",
      "   characteristic time: inf\n",
      "   binding radius: 0.0112758\n",
      "   unbinding radius: 0.01\n",
      "   product placement method and parameter: unbindrad 0.01\n",
      "   product MinD_ATP displacement: 0.005 0 0\n",
      "   product MinDMinE displacement: -0.005 0 0\n",
      "   probability of geminate reverse reaction 'rxn1c' is 0.467451\n",
      "  Reaction rxn2: MinE + MinD_ATP (front) -> MinDMinE (front)\n",
      "   requested and actual rate constants: 0.093, 0.093003\n",
      "   characteristic time: 0.0414733\n",
      "   binding radius: 0.0455085\n",
      "\n",
      "RULES:\n",
      " none\n",
      "\n",
      "COMPARTMENT PARAMETERS\n",
      " Compartments allocated: 5, compartments defined: 1\n",
      " Compartment: cell\n",
      "  1 bounding surfaces:\n",
      "   membrane\n",
      "  1 interior-defining points:\n",
      "   0: (0,0,0)\n",
      "  0 logically combined compartments\n",
      "  volume: 2.87778\n",
      "  1214 virtual boxes listed\n",
      "\n",
      "PARAMETER CHECK\n",
      " WARNING: reactive volume of MinE is 13.8177 % of total volume\n",
      " WARNING: total reactive volume is a large fraction of total volume\n",
      " No errors\n",
      " 2 total warnings\n"
     ]
    }
   ]
  },
  {
   "cell_type": "code",
   "source": [
    "from biosimulators_utils.combine.io import CombineArchiveReader\n",
    "\n",
    "reader = CombineArchiveReader()\n",
    "\n",
    "archive_dirname = '/content/Andrews-Min1-PUBLICATION'\n",
    "archive_fp = '/content/Andrews-Min1-PUBLICATION.omex'\n",
    "\n",
    "archive = reader.run(in_file=archive_fp,\n",
    "                     out_dir=archive_dirname)"
   ],
   "metadata": {
    "colab": {
     "base_uri": "https://localhost:8080/"
    },
    "id": "r58mhsVBZy0j",
    "outputId": "9b5a9f64-d2b1-418c-8d0b-0e10ce0ceec9"
   },
   "execution_count": null,
   "outputs": [
    {
     "output_type": "stream",
     "name": "stderr",
     "text": [
      "/usr/local/lib/python3.10/dist-packages/biosimulators_utils/warnings.py:31: BioSimulatorsWarning: COMBINE/OMEX archive has warnings.\n",
      "  - The manifest does not include its parent COMBINE/OMEX archive. Manifests should include their parent COMBINE/OMEX archives.\n",
      "  warnings.warn(termcolor.colored(message, Colors.warning.value), category)\n"
     ]
    }
   ]
  },
  {
   "cell_type": "code",
   "source": [
    "# remove the auto-gen manifest\n",
    "import os\n",
    "\n",
    "auto_manifest_fp = '/content/Andrews-Min1-PUBLICATION/manifest.xml'\n",
    "auto_omex = '/content/Andrews-Min1-PUBLICATION.omex'\n",
    "if os.path.exists(auto_manifest_fp):\n",
    "    os.remove(auto_manifest_fp)\n",
    "if os.path.exists(auto_omex):\n",
    "    os.remove(auto_omex)\n",
    "    os.remove('/content/model.txt')\n",
    "    os.remove('/content/modelout.txt')"
   ],
   "metadata": {
    "id": "Nq-GmfpwYSZ-"
   },
   "execution_count": null,
   "outputs": []
  },
  {
   "cell_type": "code",
   "source": [
    "import shutil\n",
    "# shutil.rmtree(archive_dirname)"
   ],
   "metadata": {
    "id": "KFpSHWxymj-O"
   },
   "execution_count": null,
   "outputs": []
  },
  {
   "cell_type": "code",
   "source": [
    "'''import datetime\n",
    "citation_doi = '10.1186/1752-0509-7-74'\n",
    "now = datetime.datetime.now()\n",
    "metadata = {\n",
    "    \"combine_archive_uri\": 'http://omex-library.org/Min1.omex',\n",
    "    \"uri\": '.',\n",
    "    'title': 'Min1',\n",
    "    'abstract': 'Smoldyn interpretation of HWA Ecoli model',\n",
    "    'keywords': [\n",
    "        'particle-diffusion',\n",
    "        'Smoldyn',\n",
    "    ],\n",
    "    'description': None,\n",
    "    'taxa': [\n",
    "        {\n",
    "            'uri': 'http://identifiers.org/taxonomy:83333',\n",
    "            'label': 'Escherichia coli K-12',\n",
    "        },\n",
    "    ],\n",
    "    'encodes': [\n",
    "        {\n",
    "            'uri': 'http://identifiers.org/GO:0008152',\n",
    "            'label': 'metabolic process',\n",
    "        },\n",
    "    ],\n",
    "    'thumbnails': [\n",
    "        ''\n",
    "    ],\n",
    "    'sources': [],\n",
    "    'predecessors': [],\n",
    "    'successors': [],\n",
    "    'see_also': [],\n",
    "    'creators': [{\n",
    "        'uri': 'https://smoldyn.org',\n",
    "        'label': 'Steve Andrews',\n",
    "    }],\n",
    "    'contributors': [{\n",
    "        'uri': 'https://identifiers.org/orcid:0000-0002-2605-5080',\n",
    "        'label': 'Jonathan Karr',\n",
    "    }],\n",
    "    'identifiers': [\n",
    "        {\n",
    "            'uri': 'http://identifiers.org/smoldyn.model/Min1.txt',\n",
    "            'label': 'smoldyn.model:Min1',\n",
    "        },\n",
    "    ],\n",
    "    'citations': [\n",
    "        {\n",
    "            'uri': 'http://identifiers.org/doi:' + citation_doi,\n",
    "            'label': None,\n",
    "        },\n",
    "    ],\n",
    "    'license': {\n",
    "        'uri': 'http://bigg.ucsd.edu/license',\n",
    "        'label': 'BiGG',\n",
    "    },\n",
    "    'funders': [],\n",
    "    'created': '{}-{:02d}-{:02d}'.format(now.year, now.month, now.day),\n",
    "    'modified': [\n",
    "        '{}-{:02d}-{:02d}'.format(now.year, now.month, now.day),\n",
    "    ],\n",
    "    'other': [],\n",
    "}'''"
   ],
   "metadata": {
    "id": "M1uq9gmfaWoN",
    "colab": {
     "base_uri": "https://localhost:8080/",
     "height": 149
    },
    "outputId": "8286e991-1c36-4a40-8a50-34adeafe17e5"
   },
   "execution_count": null,
   "outputs": [
    {
     "output_type": "execute_result",
     "data": {
      "text/plain": [
       "'import datetime\\ncitation_doi = \\'10.1186/1752-0509-7-74\\'\\nnow = datetime.datetime.now()\\nmetadata = {\\n    \"combine_archive_uri\": \\'http://omex-library.org/Min1.omex\\',\\n    \"uri\": \\'.\\',\\n    \\'title\\': \\'Min1\\',\\n    \\'abstract\\': \\'Smoldyn interpretation of HWA Ecoli model\\',\\n    \\'keywords\\': [\\n        \\'particle-diffusion\\',\\n        \\'Smoldyn\\',\\n    ],\\n    \\'description\\': None,\\n    \\'taxa\\': [\\n        {\\n            \\'uri\\': \\'http://identifiers.org/taxonomy:83333\\',\\n            \\'label\\': \\'Escherichia coli K-12\\',\\n        },\\n    ],\\n    \\'encodes\\': [\\n        {\\n            \\'uri\\': \\'http://identifiers.org/GO:0008152\\',\\n            \\'label\\': \\'metabolic process\\',\\n        },\\n    ],\\n    \\'thumbnails\\': [\\n        \\'\\'\\n    ],\\n    \\'sources\\': [],\\n    \\'predecessors\\': [],\\n    \\'successors\\': [],\\n    \\'see_also\\': [],\\n    \\'creators\\': [{\\n        \\'uri\\': \\'https://smoldyn.org\\',\\n        \\'label\\': \\'Steve Andrews\\',\\n    }],\\n    \\'contributors\\': [{\\n        \\'uri\\': \\'https://identifiers.org/orcid:0000-0002-2605-5080\\',\\n        \\'label\\': \\'Jonathan Karr\\',\\n    }],\\n    \\'identifiers\\': [\\n        {\\n            \\'uri\\': \\'http://identifiers.org/smoldyn.model/Min1.txt\\',\\n            \\'label\\': \\'smoldyn.model:Min1\\',\\n        },\\n    ],\\n    \\'citations\\': [\\n        {\\n            \\'uri\\': \\'http://identifiers.org/doi:\\' + citation_doi,\\n            \\'label\\': None,\\n        },\\n    ],\\n    \\'license\\': {\\n        \\'uri\\': \\'http://bigg.ucsd.edu/license\\',\\n        \\'label\\': \\'BiGG\\',\\n    },\\n    \\'funders\\': [],\\n    \\'created\\': \\'{}-{:02d}-{:02d}\\'.format(now.year, now.month, now.day),\\n    \\'modified\\': [\\n        \\'{}-{:02d}-{:02d}\\'.format(now.year, now.month, now.day),\\n    ],\\n    \\'other\\': [],\\n}'"
      ],
      "application/vnd.google.colaboratory.intrinsic+json": {
       "type": "string"
      }
     },
     "metadata": {},
     "execution_count": 9
    }
   ]
  },
  {
   "cell_type": "code",
   "source": [
    "print('Upload the metadata file from Lotka Volterra: ')\n",
    "from google.colab import files\n",
    "\n",
    "files.upload()"
   ],
   "metadata": {
    "id": "X0O2281LH9l9",
    "colab": {
     "base_uri": "https://localhost:8080/",
     "height": 500
    },
    "outputId": "dd120b2b-22d1-4f9c-89e8-a1ef9dfeabe1"
   },
   "execution_count": null,
   "outputs": [
    {
     "output_type": "stream",
     "name": "stdout",
     "text": [
      "Upload the metadata file from Lotka Volterra: \n"
     ]
    },
    {
     "output_type": "display_data",
     "data": {
      "text/plain": [
       "<IPython.core.display.HTML object>"
      ],
      "text/html": [
       "\n",
       "     <input type=\"file\" id=\"files-20d2b232-1464-43a3-9e2a-96ed915736c8\" name=\"files[]\" multiple disabled\n",
       "        style=\"border:none\" />\n",
       "     <output id=\"result-20d2b232-1464-43a3-9e2a-96ed915736c8\">\n",
       "      Upload widget is only available when the cell has been executed in the\n",
       "      current browser session. Please rerun this cell to enable.\n",
       "      </output>\n",
       "      <script>// Copyright 2017 Google LLC\n",
       "//\n",
       "// Licensed under the Apache License, Version 2.0 (the \"License\");\n",
       "// you may not use this file except in compliance with the License.\n",
       "// You may obtain a copy of the License at\n",
       "//\n",
       "//      http://www.apache.org/licenses/LICENSE-2.0\n",
       "//\n",
       "// Unless required by applicable law or agreed to in writing, software\n",
       "// distributed under the License is distributed on an \"AS IS\" BASIS,\n",
       "// WITHOUT WARRANTIES OR CONDITIONS OF ANY KIND, either express or implied.\n",
       "// See the License for the specific language governing permissions and\n",
       "// limitations under the License.\n",
       "\n",
       "/**\n",
       " * @fileoverview Helpers for google.colab Python module.\n",
       " */\n",
       "(function(scope) {\n",
       "function span(text, styleAttributes = {}) {\n",
       "  const element = document.createElement('span');\n",
       "  element.textContent = text;\n",
       "  for (const key of Object.keys(styleAttributes)) {\n",
       "    element.style[key] = styleAttributes[key];\n",
       "  }\n",
       "  return element;\n",
       "}\n",
       "\n",
       "// Max number of bytes which will be uploaded at a time.\n",
       "const MAX_PAYLOAD_SIZE = 100 * 1024;\n",
       "\n",
       "function _uploadFiles(inputId, outputId) {\n",
       "  const steps = uploadFilesStep(inputId, outputId);\n",
       "  const outputElement = document.getElementById(outputId);\n",
       "  // Cache steps on the outputElement to make it available for the next call\n",
       "  // to uploadFilesContinue from Python.\n",
       "  outputElement.steps = steps;\n",
       "\n",
       "  return _uploadFilesContinue(outputId);\n",
       "}\n",
       "\n",
       "// This is roughly an async generator (not supported in the browser yet),\n",
       "// where there are multiple asynchronous steps and the Python side is going\n",
       "// to poll for completion of each step.\n",
       "// This uses a Promise to block the python side on completion of each step,\n",
       "// then passes the result of the previous step as the input to the next step.\n",
       "function _uploadFilesContinue(outputId) {\n",
       "  const outputElement = document.getElementById(outputId);\n",
       "  const steps = outputElement.steps;\n",
       "\n",
       "  const next = steps.next(outputElement.lastPromiseValue);\n",
       "  return Promise.resolve(next.value.promise).then((value) => {\n",
       "    // Cache the last promise value to make it available to the next\n",
       "    // step of the generator.\n",
       "    outputElement.lastPromiseValue = value;\n",
       "    return next.value.response;\n",
       "  });\n",
       "}\n",
       "\n",
       "/**\n",
       " * Generator function which is called between each async step of the upload\n",
       " * process.\n",
       " * @param {string} inputId Element ID of the input file picker element.\n",
       " * @param {string} outputId Element ID of the output display.\n",
       " * @return {!Iterable<!Object>} Iterable of next steps.\n",
       " */\n",
       "function* uploadFilesStep(inputId, outputId) {\n",
       "  const inputElement = document.getElementById(inputId);\n",
       "  inputElement.disabled = false;\n",
       "\n",
       "  const outputElement = document.getElementById(outputId);\n",
       "  outputElement.innerHTML = '';\n",
       "\n",
       "  const pickedPromise = new Promise((resolve) => {\n",
       "    inputElement.addEventListener('change', (e) => {\n",
       "      resolve(e.target.files);\n",
       "    });\n",
       "  });\n",
       "\n",
       "  const cancel = document.createElement('button');\n",
       "  inputElement.parentElement.appendChild(cancel);\n",
       "  cancel.textContent = 'Cancel upload';\n",
       "  const cancelPromise = new Promise((resolve) => {\n",
       "    cancel.onclick = () => {\n",
       "      resolve(null);\n",
       "    };\n",
       "  });\n",
       "\n",
       "  // Wait for the user to pick the files.\n",
       "  const files = yield {\n",
       "    promise: Promise.race([pickedPromise, cancelPromise]),\n",
       "    response: {\n",
       "      action: 'starting',\n",
       "    }\n",
       "  };\n",
       "\n",
       "  cancel.remove();\n",
       "\n",
       "  // Disable the input element since further picks are not allowed.\n",
       "  inputElement.disabled = true;\n",
       "\n",
       "  if (!files) {\n",
       "    return {\n",
       "      response: {\n",
       "        action: 'complete',\n",
       "      }\n",
       "    };\n",
       "  }\n",
       "\n",
       "  for (const file of files) {\n",
       "    const li = document.createElement('li');\n",
       "    li.append(span(file.name, {fontWeight: 'bold'}));\n",
       "    li.append(span(\n",
       "        `(${file.type || 'n/a'}) - ${file.size} bytes, ` +\n",
       "        `last modified: ${\n",
       "            file.lastModifiedDate ? file.lastModifiedDate.toLocaleDateString() :\n",
       "                                    'n/a'} - `));\n",
       "    const percent = span('0% done');\n",
       "    li.appendChild(percent);\n",
       "\n",
       "    outputElement.appendChild(li);\n",
       "\n",
       "    const fileDataPromise = new Promise((resolve) => {\n",
       "      const reader = new FileReader();\n",
       "      reader.onload = (e) => {\n",
       "        resolve(e.target.result);\n",
       "      };\n",
       "      reader.readAsArrayBuffer(file);\n",
       "    });\n",
       "    // Wait for the data to be ready.\n",
       "    let fileData = yield {\n",
       "      promise: fileDataPromise,\n",
       "      response: {\n",
       "        action: 'continue',\n",
       "      }\n",
       "    };\n",
       "\n",
       "    // Use a chunked sending to avoid message size limits. See b/62115660.\n",
       "    let position = 0;\n",
       "    do {\n",
       "      const length = Math.min(fileData.byteLength - position, MAX_PAYLOAD_SIZE);\n",
       "      const chunk = new Uint8Array(fileData, position, length);\n",
       "      position += length;\n",
       "\n",
       "      const base64 = btoa(String.fromCharCode.apply(null, chunk));\n",
       "      yield {\n",
       "        response: {\n",
       "          action: 'append',\n",
       "          file: file.name,\n",
       "          data: base64,\n",
       "        },\n",
       "      };\n",
       "\n",
       "      let percentDone = fileData.byteLength === 0 ?\n",
       "          100 :\n",
       "          Math.round((position / fileData.byteLength) * 100);\n",
       "      percent.textContent = `${percentDone}% done`;\n",
       "\n",
       "    } while (position < fileData.byteLength);\n",
       "  }\n",
       "\n",
       "  // All done.\n",
       "  yield {\n",
       "    response: {\n",
       "      action: 'complete',\n",
       "    }\n",
       "  };\n",
       "}\n",
       "\n",
       "scope.google = scope.google || {};\n",
       "scope.google.colab = scope.google.colab || {};\n",
       "scope.google.colab._files = {\n",
       "  _uploadFiles,\n",
       "  _uploadFilesContinue,\n",
       "};\n",
       "})(self);\n",
       "</script> "
      ]
     },
     "metadata": {}
    },
    {
     "output_type": "stream",
     "name": "stdout",
     "text": [
      "Saving metadata.rdf to metadata.rdf\n"
     ]
    },
    {
     "output_type": "execute_result",
     "data": {
      "text/plain": [
       "{'metadata.rdf': b'<?xml version=\"1.1\" encoding=\"utf-8\"?>\\n<rdf:RDF xmlns:OMEXlib=\"http://omex-library.org/\"\\n   xmlns:bqbiol=\"http://biomodels.net/biology-qualifiers/\"\\n   xmlns:bqmodel=\"http://biomodels.net/model-qualifiers/\"\\n   xmlns:dc=\"http://purl.org/dc/terms/\"\\n   xmlns:foaf=\"http://xmlns.com/foaf/0.1/\"\\n   xmlns:local=\"http://omex-library.org/NewOmex.omex/NewModel.rdf#\"\\n   xmlns:rdf=\"http://www.w3.org/1999/02/22-rdf-syntax-ns#\">\\n  <rdf:Description rdf:about=\"http://omex-library.org/Min1.omex\">\\n    <bqmodel:is rdf:resource=\"local:00003\"/>\\n    <bqmodel:isDescribedBy rdf:resource=\"local:00004\"/>\\n    <ns1:abstract xmlns:ns1=\"http://purl.org/dc/elements/1.1/\">\\n E. coli Min system, based on Huang, Meir, Wingreen (HMW) with surface diffusion.\\n \\n Motivation: Smoldyn is a spatial and stochastic biochemical simulator. \\n It treats each molecule of interest as an individual particle in continuous space, \\n simulating molecular diffusion, molecule-membrane interactions and chemical reactions, \\n all with good accuracy.\\n</ns1:abstract>\\n    <ns2:contributor xmlns:ns2=\"http://purl.org/dc/elements/1.1/\"\\n       rdf:resource=\"local:00002\"/>\\n    <ns3:created xmlns:ns3=\"http://purl.org/dc/elements/1.1/\">2024-01-15</ns3:created>\\n    <ns4:creator xmlns:ns4=\"http://purl.org/dc/elements/1.1/\"\\n       rdf:resource=\"local:00001\"/>\\n    <ns5:license xmlns:ns5=\"http://purl.org/dc/elements/1.1/\"\\n       rdf:resource=\"local:00005\"/>\\n    <ns6:modified xmlns:ns6=\"http://purl.org/dc/elements/1.1/\">2024-02-05</ns6:modified>\\n    <ns7:title xmlns:ns7=\"http://purl.org/dc/elements/1.1/\">E. coli Min system based on Huang, Meir, Wingreen (Andrews, 2009)</ns7:title>\\n  </rdf:Description>\\n  <rdf:Description rdf:about=\"local:00001\">\\n    <ns8:label xmlns:ns8=\"http://www.w3.org/2000/01/rdf-schema#\">Steven Andrews</ns8:label>\\n    <foaf:name>Steven Andrews</foaf:name>\\n  </rdf:Description>\\n  <rdf:Description rdf:about=\"local:00002\">\\n    <ns9:identifier xmlns:ns9=\"http://purl.org/dc/elements/1.1/\"\\n       rdf:resource=\"http://identifiers.org/orcid:0009-0002-6886-2291\"/>\\n    <ns10:label xmlns:ns10=\"http://www.w3.org/2000/01/rdf-schema#\">Alex Patrie</ns10:label>\\n    <foaf:accountName rdf:resource=\"https://orcid.org/0009-0002-6886-2291\"/>\\n    <foaf:name>Alex Patrie</foaf:name>\\n  </rdf:Description>\\n  <rdf:Description rdf:about=\"local:00003\">\\n    <ns11:identifier xmlns:ns11=\"http://purl.org/dc/elements/1.1/\"\\n       rdf:resource=\"https://github.com/ssandrews/Smoldyn/blob/master/examples/S99_more/Min/Min1.txt\"/>\\n    <ns12:label xmlns:ns12=\"http://www.w3.org/2000/01/rdf-schema#\">smoldyn:S99_more/Min/Min1.txt</ns12:label>\\n  </rdf:Description>\\n  <rdf:Description rdf:about=\"local:00004\">\\n    <ns13:identifier xmlns:ns13=\"http://purl.org/dc/elements/1.1/\"\\n       rdf:resource=\"http://identifiers.org/doi:10.1093/bioinformatics/btw700\"/>\\n    <ns14:label xmlns:ns14=\"http://www.w3.org/2000/01/rdf-schema#\">Steven S Andrews. Smoldyn: particle-based simulation with rule-based modeling, improved molecular interaction and a library interface. Bioinformatics 33, 5 (2017).</ns14:label>\\n  </rdf:Description>\\n  <rdf:Description rdf:about=\"local:00005\">\\n    <ns15:identifier xmlns:ns15=\"http://purl.org/dc/elements/1.1/\"\\n       rdf:resource=\"http://identifiers.org/spdx:GPL-3.0-only\"/>\\n    <ns16:label xmlns:ns16=\"http://www.w3.org/2000/01/rdf-schema#\">GPL-3.0-only</ns16:label>\\n  </rdf:Description>\\n</rdf:RDF>\\n\\n'}"
      ]
     },
     "metadata": {},
     "execution_count": 10
    }
   ]
  },
  {
   "cell_type": "code",
   "source": [
    "from biosimulators_utils.omex_meta.io import BiosimulationsOmexMetaReader as omexReader\n",
    "\n",
    "metadata_file = omexReader().run('/content/metadata.rdf')\n",
    "\n",
    "metadata = metadata_file[0][0]"
   ],
   "metadata": {
    "id": "_wbW5SVKXPxr"
   },
   "execution_count": null,
   "outputs": []
  },
  {
   "cell_type": "code",
   "source": [
    "metadata"
   ],
   "metadata": {
    "colab": {
     "base_uri": "https://localhost:8080/"
    },
    "id": "z43Zz8-U2Hsy",
    "outputId": "75158a9d-14a0-4214-b770-7480f3e371f4"
   },
   "execution_count": null,
   "outputs": [
    {
     "output_type": "execute_result",
     "data": {
      "text/plain": [
       "{'uri': '.',\n",
       " 'combine_archive_uri': 'http://omex-library.org/Min1.omex',\n",
       " 'title': 'E. coli Min system based on Huang, Meir, Wingreen (Andrews, 2009)',\n",
       " 'abstract': '\\n E. coli Min system, based on Huang, Meir, Wingreen (HMW) with surface diffusion.\\n \\n Motivation: Smoldyn is a spatial and stochastic biochemical simulator. \\n It treats each molecule of interest as an individual particle in continuous space, \\n simulating molecular diffusion, molecule-membrane interactions and chemical reactions, \\n all with good accuracy.\\n',\n",
       " 'keywords': [],\n",
       " 'description': None,\n",
       " 'taxa': [],\n",
       " 'encodes': [],\n",
       " 'thumbnails': [],\n",
       " 'sources': [],\n",
       " 'predecessors': [],\n",
       " 'references': [],\n",
       " 'successors': [],\n",
       " 'see_also': [],\n",
       " 'creators': [{'uri': None, 'label': 'Steven Andrews'}],\n",
       " 'contributors': [{'uri': 'http://identifiers.org/orcid:0009-0002-6886-2291',\n",
       "   'label': 'Alex Patrie'}],\n",
       " 'identifiers': [{'uri': 'https://github.com/ssandrews/Smoldyn/blob/master/examples/S99_more/Min/Min1.txt',\n",
       "   'label': 'smoldyn:S99_more/Min/Min1.txt'}],\n",
       " 'citations': [{'uri': 'http://identifiers.org/doi:10.1093/bioinformatics/btw700',\n",
       "   'label': 'Steven S Andrews. Smoldyn: particle-based simulation with rule-based modeling, improved molecular interaction and a library interface. Bioinformatics 33, 5 (2017).'}],\n",
       " 'license': {'uri': 'http://identifiers.org/spdx:GPL-3.0-only',\n",
       "  'label': 'GPL-3.0-only'},\n",
       " 'funders': [],\n",
       " 'created': '2024-01-15',\n",
       " 'modified': ['2024-02-05'],\n",
       " 'other': []}"
      ]
     },
     "metadata": {},
     "execution_count": 12
    }
   ]
  },
  {
   "cell_type": "code",
   "source": [
    "metadata.get('citations')"
   ],
   "metadata": {
    "colab": {
     "base_uri": "https://localhost:8080/"
    },
    "id": "AdqM6x7OLYH1",
    "outputId": "24037ee2-051f-4e57-9060-9b69a0ff04ca"
   },
   "execution_count": null,
   "outputs": [
    {
     "output_type": "execute_result",
     "data": {
      "text/plain": [
       "[{'uri': 'http://identifiers.org/doi:10.1093/bioinformatics/btw700',\n",
       "  'label': 'Steven S Andrews. Smoldyn: particle-based simulation with rule-based modeling, improved molecular interaction and a library interface. Bioinformatics 33, 5 (2017).'}]"
      ]
     },
     "metadata": {},
     "execution_count": 13
    }
   ]
  },
  {
   "cell_type": "code",
   "source": [
    "\n",
    "archive_uri = metadata['combine_archive_uri']\n",
    "metadata['combine_archive_uri'] = archive_uri.replace('Lotka-Volterra', 'Min1')\n",
    "metadata['title'] = 'E. coli Min system based on Huang, Meir, Wingreen (Andrews, 2009)'\n",
    "# metadata['abstract'] = 'E. coli Min system, based on Huang, Meir, Wingreen (HMW). This model is the HMW system exactly, plus surface diffusion. Units are micron, second.'\n",
    "metadata['abstract'] = \"\"\"\n",
    " E. coli Min system, based on Huang, Meir, Wingreen (HMW) with surface diffusion.\n",
    "\n",
    " Motivation: Smoldyn is a spatial and stochastic biochemical simulator.\n",
    " It treats each molecule of interest as an individual particle in continuous space,\n",
    " simulating molecular diffusion, molecule-membrane interactions and chemical reactions,\n",
    " all with good accuracy.\n",
    "\"\"\"\n",
    "metadata['contributors'] = [{\n",
    "    'uri': 'http://identifiers.org/orcid:0009-0002-6886-2291',\n",
    "    'label': 'Alex Patrie'\n",
    "}]\n",
    "metadata['identifiers'] = [{\n",
    "    'uri': 'https://github.com/ssandrews/Smoldyn/blob/master/examples/S99_more/Min/Min1.txt',\n",
    "    'label': 'smoldyn:S99_more/Min/Min1.txt'\n",
    "}]\n",
    "\n",
    "metadata"
   ],
   "metadata": {
    "colab": {
     "base_uri": "https://localhost:8080/"
    },
    "id": "L0CUj-_aa04c",
    "outputId": "43f80d71-810a-480a-c051-2e16917582fe"
   },
   "execution_count": null,
   "outputs": [
    {
     "output_type": "execute_result",
     "data": {
      "text/plain": [
       "{'uri': '.',\n",
       " 'combine_archive_uri': 'http://omex-library.org/Min1.omex',\n",
       " 'title': 'E. coli Min system based on Huang, Meir, Wingreen (Andrews, 2009)',\n",
       " 'abstract': '\\n E. coli Min system, based on Huang, Meir, Wingreen (HMW) with surface diffusion.\\n \\n Motivation: Smoldyn is a spatial and stochastic biochemical simulator. \\n It treats each molecule of interest as an individual particle in continuous space, \\n simulating molecular diffusion, molecule-membrane interactions and chemical reactions, \\n all with good accuracy.\\n',\n",
       " 'keywords': [],\n",
       " 'description': None,\n",
       " 'taxa': [],\n",
       " 'encodes': [],\n",
       " 'thumbnails': [],\n",
       " 'sources': [],\n",
       " 'predecessors': [],\n",
       " 'references': [],\n",
       " 'successors': [],\n",
       " 'see_also': [],\n",
       " 'creators': [{'uri': None, 'label': 'Steven Andrews'}],\n",
       " 'contributors': [{'uri': 'http://identifiers.org/orcid:0009-0002-6886-2291',\n",
       "   'label': 'Alex Patrie'}],\n",
       " 'identifiers': [{'uri': 'https://github.com/ssandrews/Smoldyn/blob/master/examples/S99_more/Min/Min1.txt',\n",
       "   'label': 'smoldyn:S99_more/Min/Min1.txt'}],\n",
       " 'citations': [{'uri': 'http://identifiers.org/doi:10.1093/bioinformatics/btw700',\n",
       "   'label': 'Steven S. Andrews. Smoldyn: particle-based simulation with rule-based modeling, improved molecular interaction and a library interface. Bioinformatics 33, 5 (2017): 710-717.'}],\n",
       " 'license': {'uri': 'http://identifiers.org/spdx:GPL-3.0-only',\n",
       "  'label': 'GPL-3.0-only'},\n",
       " 'funders': [],\n",
       " 'created': '2019-02-22',\n",
       " 'modified': ['2021-07-21'],\n",
       " 'other': []}"
      ]
     },
     "metadata": {},
     "execution_count": 10
    }
   ]
  },
  {
   "cell_type": "code",
   "source": [
    "from biosimulators_utils.ref.utils import get_reference\n",
    "\n",
    "citation_doi = '10.1093/bioinformatics/btw700'\n",
    "citation = get_reference(doi=citation_doi)\n",
    "metadata['citations'][0]['label'] = citation.get_citation()\n",
    "\n",
    "citation"
   ],
   "metadata": {
    "colab": {
     "base_uri": "https://localhost:8080/"
    },
    "id": "oUZ5MN1ObRez",
    "outputId": "0f8421c5-685d-4dcd-f2b7-f8ed218dc2cb"
   },
   "execution_count": null,
   "outputs": [
    {
     "output_type": "stream",
     "name": "stderr",
     "text": [
      "/usr/local/lib/python3.10/dist-packages/Bio/Entrez/__init__.py:723: UserWarning: \n",
      "            Email address is not specified.\n",
      "\n",
      "            To make use of NCBI's E-utilities, NCBI requires you to specify your\n",
      "            email address with each request.  As an example, if your email address\n",
      "            is A.N.Other@example.com, you can specify it as follows:\n",
      "               from Bio import Entrez\n",
      "               Entrez.email = 'A.N.Other@example.com'\n",
      "            In case of excessive usage of the E-utilities, NCBI will attempt to contact\n",
      "            a user at the email address provided before blocking access to the\n",
      "            E-utilities.\n",
      "  warnings.warn(\n"
     ]
    },
    {
     "output_type": "execute_result",
     "data": {
      "text/plain": [
       "JournalArticle(pubmed_id='28365760', pubmed_central_id=None, doi='10.1093/bioinformatics/btw700', authors=['Steven S Andrews'], title='Smoldyn: particle-based simulation with rule-based modeling, improved molecular interaction and a library interface', journal='Bioinformatics', volume='33', issue='5', pages=None, year='2017', date='2017-03-01')"
      ]
     },
     "metadata": {},
     "execution_count": 12
    }
   ]
  },
  {
   "cell_type": "code",
   "source": [
    "# TO MODIFY\n",
    "import datetime\n",
    "\n",
    "today = datetime.datetime.today()\n",
    "today = str(today).split()[0]"
   ],
   "metadata": {
    "id": "co-7VNZVOF1B"
   },
   "execution_count": null,
   "outputs": []
  },
  {
   "cell_type": "code",
   "source": [
    "metadata['created'] = '2024-01-15'\n",
    "last_modified = metadata['modified']\n",
    "metadata['modified'].pop()\n",
    "metadata['modified'].append(today)"
   ],
   "metadata": {
    "id": "eIteNWZcOBUP"
   },
   "execution_count": null,
   "outputs": []
  },
  {
   "cell_type": "code",
   "source": [
    "metadata"
   ],
   "metadata": {
    "colab": {
     "base_uri": "https://localhost:8080/"
    },
    "id": "F-LypMc-P2T6",
    "outputId": "8d3458ad-a646-4e10-cbb7-ac4cb363876a"
   },
   "execution_count": null,
   "outputs": [
    {
     "output_type": "execute_result",
     "data": {
      "text/plain": [
       "{'uri': '.',\n",
       " 'combine_archive_uri': 'http://omex-library.org/Min1.omex',\n",
       " 'title': 'E. coli Min system based on Huang, Meir, Wingreen (Andrews, 2009)',\n",
       " 'abstract': '\\n E. coli Min system, based on Huang, Meir, Wingreen (HMW) with surface diffusion.\\n \\n Motivation: Smoldyn is a spatial and stochastic biochemical simulator. \\n It treats each molecule of interest as an individual particle in continuous space, \\n simulating molecular diffusion, molecule-membrane interactions and chemical reactions, \\n all with good accuracy.\\n',\n",
       " 'keywords': [],\n",
       " 'description': None,\n",
       " 'taxa': [],\n",
       " 'encodes': [],\n",
       " 'thumbnails': [],\n",
       " 'sources': [],\n",
       " 'predecessors': [],\n",
       " 'references': [],\n",
       " 'successors': [],\n",
       " 'see_also': [],\n",
       " 'creators': [{'uri': None, 'label': 'Steven Andrews'}],\n",
       " 'contributors': [{'uri': 'http://identifiers.org/orcid:0009-0002-6886-2291',\n",
       "   'label': 'Alex Patrie'}],\n",
       " 'identifiers': [{'uri': 'https://github.com/ssandrews/Smoldyn/blob/master/examples/S99_more/Min/Min1.txt',\n",
       "   'label': 'smoldyn:S99_more/Min/Min1.txt'}],\n",
       " 'citations': [{'uri': 'http://identifiers.org/doi:10.1093/bioinformatics/btw700',\n",
       "   'label': 'Steven S Andrews. Smoldyn: particle-based simulation with rule-based modeling, improved molecular interaction and a library interface. Bioinformatics 33, 5 (2017).'}],\n",
       " 'license': {'uri': 'http://identifiers.org/spdx:GPL-3.0-only',\n",
       "  'label': 'GPL-3.0-only'},\n",
       " 'funders': [],\n",
       " 'created': '2024-01-15',\n",
       " 'modified': ['2024-02-10'],\n",
       " 'other': []}"
      ]
     },
     "metadata": {},
     "execution_count": 16
    }
   ]
  },
  {
   "cell_type": "code",
   "source": [
    "from biosimulators_utils.ref.utils import get_pubmed_central_open_access_graphics\n",
    "\n",
    "thumbnails = get_pubmed_central_open_access_graphics(\n",
    "    citation_doi,\n",
    "    archive_dirname,\n",
    ")"
   ],
   "metadata": {
    "id": "AkCC-ueIeYkZ"
   },
   "execution_count": null,
   "outputs": []
  },
  {
   "cell_type": "code",
   "source": [
    "thumbnails"
   ],
   "metadata": {
    "colab": {
     "base_uri": "https://localhost:8080/"
    },
    "id": "dcAs9MaGfHFE",
    "outputId": "5db87a0e-ad35-4dad-8792-bb27b0a345b8"
   },
   "execution_count": null,
   "outputs": [
    {
     "output_type": "execute_result",
     "data": {
      "text/plain": [
       "[]"
      ]
     },
     "metadata": {},
     "execution_count": 26
    }
   ]
  },
  {
   "cell_type": "code",
   "source": [
    "metadata['thumbnails'] = [os.path.relpath(thumbnail.filename, archive_dirname) for thumbnail in thumbnails]"
   ],
   "metadata": {
    "id": "Tdx2XBvYbz3n"
   },
   "execution_count": null,
   "outputs": []
  },
  {
   "cell_type": "code",
   "source": [
    "metadata"
   ],
   "metadata": {
    "colab": {
     "base_uri": "https://localhost:8080/"
    },
    "id": "Pq6Bz9XMfNpz",
    "outputId": "9a3019f2-6c65-42b2-82d6-dd50fd7d0fa1"
   },
   "execution_count": null,
   "outputs": [
    {
     "output_type": "execute_result",
     "data": {
      "text/plain": [
       "{'uri': '.',\n",
       " 'combine_archive_uri': 'http://omex-library.org/Min1.omex',\n",
       " 'title': 'E. coli Min system based on Huang, Meir, Wingreen (Andrews, 2009)',\n",
       " 'abstract': '\\n E. coli Min system, based on Huang, Meir, Wingreen (HMW) with surface diffusion.\\n \\n Motivation: Smoldyn is a spatial and stochastic biochemical simulator. \\n It treats each molecule of interest as an individual particle in continuous space, \\n simulating molecular diffusion, molecule-membrane interactions and chemical reactions, \\n all with good accuracy.\\n',\n",
       " 'keywords': [],\n",
       " 'description': None,\n",
       " 'taxa': [],\n",
       " 'encodes': [],\n",
       " 'thumbnails': [],\n",
       " 'sources': [],\n",
       " 'predecessors': [],\n",
       " 'references': [],\n",
       " 'successors': [],\n",
       " 'see_also': [],\n",
       " 'creators': [{'uri': None, 'label': 'Steven Andrews'}],\n",
       " 'contributors': [{'uri': 'http://identifiers.org/orcid:0009-0002-6886-2291',\n",
       "   'label': 'Alex Patrie'}],\n",
       " 'identifiers': [{'uri': 'https://github.com/ssandrews/Smoldyn/blob/master/examples/S99_more/Min/Min1.txt',\n",
       "   'label': 'smoldyn:S99_more/Min/Min1.txt'}],\n",
       " 'citations': [{'uri': 'http://identifiers.org/doi:10.1093/bioinformatics/btw700',\n",
       "   'label': 'Steven S Andrews. Smoldyn: particle-based simulation with rule-based modeling, improved molecular interaction and a library interface. Bioinformatics 33, 5 (2017).'}],\n",
       " 'license': {'uri': 'http://identifiers.org/spdx:GPL-3.0-only',\n",
       "  'label': 'GPL-3.0-only'},\n",
       " 'funders': [],\n",
       " 'created': '2024-01-15',\n",
       " 'modified': ['2024-02-05'],\n",
       " 'other': []}"
      ]
     },
     "metadata": {},
     "execution_count": 28
    }
   ]
  },
  {
   "cell_type": "code",
   "source": [
    "from biosimulators_utils.omex_meta.io import BiosimulationsOmexMetaWriter\n",
    "\n",
    "metadata_filename = os.path.join(archive_dirname, 'metadata.rdf')\n",
    "BiosimulationsOmexMetaWriter().run([metadata], metadata_filename)\n"
   ],
   "metadata": {
    "id": "9dy6eAYdb3r-"
   },
   "execution_count": null,
   "outputs": []
  },
  {
   "cell_type": "code",
   "source": [
    "from biosimulators_utils.combine.data_model import CombineArchive, CombineArchiveContent, CombineArchiveContentFormat"
   ],
   "metadata": {
    "id": "19QpSeIUb9aC"
   },
   "execution_count": null,
   "outputs": []
  },
  {
   "cell_type": "code",
   "source": [
    "!cat /content/Andrews-Min1-PUBLICATION/metadata.rdf"
   ],
   "metadata": {
    "colab": {
     "base_uri": "https://localhost:8080/"
    },
    "id": "kxFOaarQw6eP",
    "outputId": "6e5288f0-b17a-4eca-d2ab-ed26858dc168"
   },
   "execution_count": null,
   "outputs": [
    {
     "output_type": "stream",
     "name": "stdout",
     "text": [
      "<?xml version=\"1.1\" encoding=\"utf-8\"?>\n",
      "<rdf:RDF xmlns:OMEXlib=\"http://omex-library.org/\"\n",
      "   xmlns:bqbiol=\"http://biomodels.net/biology-qualifiers/\"\n",
      "   xmlns:bqmodel=\"http://biomodels.net/model-qualifiers/\"\n",
      "   xmlns:dc=\"http://purl.org/dc/terms/\"\n",
      "   xmlns:foaf=\"http://xmlns.com/foaf/0.1/\"\n",
      "   xmlns:local=\"http://omex-library.org/NewOmex.omex/NewModel.rdf#\"\n",
      "   xmlns:rdf=\"http://www.w3.org/1999/02/22-rdf-syntax-ns#\">\n",
      "  <rdf:Description rdf:about=\"http://omex-library.org/Min1.omex\">\n",
      "    <bqmodel:is rdf:resource=\"local:00003\"/>\n",
      "    <bqmodel:isDescribedBy rdf:resource=\"local:00004\"/>\n",
      "    <ns1:abstract xmlns:ns1=\"http://purl.org/dc/elements/1.1/\">\n",
      " E. coli Min system, based on Huang, Meir, Wingreen (HMW) with surface diffusion.\n",
      " \n",
      " Motivation: Smoldyn is a spatial and stochastic biochemical simulator. \n",
      " It treats each molecule of interest as an individual particle in continuous space, \n",
      " simulating molecular diffusion, molecule-membrane interactions and chemical reactions, \n",
      " all with good accuracy.\n",
      "</ns1:abstract>\n",
      "    <ns2:contributor xmlns:ns2=\"http://purl.org/dc/elements/1.1/\"\n",
      "       rdf:resource=\"local:00002\"/>\n",
      "    <ns3:created xmlns:ns3=\"http://purl.org/dc/elements/1.1/\">2024-01-15</ns3:created>\n",
      "    <ns4:creator xmlns:ns4=\"http://purl.org/dc/elements/1.1/\"\n",
      "       rdf:resource=\"local:00001\"/>\n",
      "    <ns5:license xmlns:ns5=\"http://purl.org/dc/elements/1.1/\"\n",
      "       rdf:resource=\"local:00005\"/>\n",
      "    <ns6:modified xmlns:ns6=\"http://purl.org/dc/elements/1.1/\">2024-02-10</ns6:modified>\n",
      "    <ns7:title xmlns:ns7=\"http://purl.org/dc/elements/1.1/\">E. coli Min system based on Huang, Meir, Wingreen (Andrews, 2009)</ns7:title>\n",
      "  </rdf:Description>\n",
      "  <rdf:Description rdf:about=\"local:00001\">\n",
      "    <ns8:label xmlns:ns8=\"http://www.w3.org/2000/01/rdf-schema#\">Steven Andrews</ns8:label>\n",
      "    <foaf:name>Steven Andrews</foaf:name>\n",
      "  </rdf:Description>\n",
      "  <rdf:Description rdf:about=\"local:00002\">\n",
      "    <ns9:identifier xmlns:ns9=\"http://purl.org/dc/elements/1.1/\"\n",
      "       rdf:resource=\"http://identifiers.org/orcid:0009-0002-6886-2291\"/>\n",
      "    <ns10:label xmlns:ns10=\"http://www.w3.org/2000/01/rdf-schema#\">Alex Patrie</ns10:label>\n",
      "    <foaf:accountName rdf:resource=\"https://orcid.org/0009-0002-6886-2291\"/>\n",
      "    <foaf:name>Alex Patrie</foaf:name>\n",
      "  </rdf:Description>\n",
      "  <rdf:Description rdf:about=\"local:00003\">\n",
      "    <ns11:identifier xmlns:ns11=\"http://purl.org/dc/elements/1.1/\"\n",
      "       rdf:resource=\"https://github.com/ssandrews/Smoldyn/blob/master/examples/S99_more/Min/Min1.txt\"/>\n",
      "    <ns12:label xmlns:ns12=\"http://www.w3.org/2000/01/rdf-schema#\">smoldyn:S99_more/Min/Min1.txt</ns12:label>\n",
      "  </rdf:Description>\n",
      "  <rdf:Description rdf:about=\"local:00004\">\n",
      "    <ns13:identifier xmlns:ns13=\"http://purl.org/dc/elements/1.1/\"\n",
      "       rdf:resource=\"http://identifiers.org/doi:10.1093/bioinformatics/btw700\"/>\n",
      "    <ns14:label xmlns:ns14=\"http://www.w3.org/2000/01/rdf-schema#\">Steven S Andrews. Smoldyn: particle-based simulation with rule-based modeling, improved molecular interaction and a library interface. Bioinformatics 33, 5 (2017).</ns14:label>\n",
      "  </rdf:Description>\n",
      "  <rdf:Description rdf:about=\"local:00005\">\n",
      "    <ns15:identifier xmlns:ns15=\"http://purl.org/dc/elements/1.1/\"\n",
      "       rdf:resource=\"http://identifiers.org/spdx:GPL-3.0-only\"/>\n",
      "    <ns16:label xmlns:ns16=\"http://www.w3.org/2000/01/rdf-schema#\">GPL-3.0-only</ns16:label>\n",
      "  </rdf:Description>\n",
      "</rdf:RDF>\n"
     ]
    }
   ]
  },
  {
   "cell_type": "code",
   "source": [
    "for c in archive.contents:\n",
    "    print(c.location)\n"
   ],
   "metadata": {
    "colab": {
     "base_uri": "https://localhost:8080/"
    },
    "id": "7rChJcm6cDZ-",
    "outputId": "4901858d-b95c-411a-c5c1-b98a273b4394"
   },
   "execution_count": null,
   "outputs": [
    {
     "output_type": "stream",
     "name": "stdout",
     "text": [
      "model.txt\n",
      "simulation.sedml\n"
     ]
    }
   ]
  },
  {
   "cell_type": "code",
   "source": [
    "archive = CombineArchive()"
   ],
   "metadata": {
    "id": "0P92N1bzxDDa"
   },
   "execution_count": null,
   "outputs": []
  },
  {
   "cell_type": "code",
   "source": [
    "for c in archive.contents:\n",
    "    print(c.location)"
   ],
   "metadata": {
    "id": "WVdZPrawiArI"
   },
   "execution_count": null,
   "outputs": []
  },
  {
   "cell_type": "code",
   "source": [
    "archive.contents"
   ],
   "metadata": {
    "id": "6L6bMMzL0JgK",
    "colab": {
     "base_uri": "https://localhost:8080/"
    },
    "outputId": "bca3db74-af42-4f02-cf6f-1c95a5c8c5e8"
   },
   "execution_count": null,
   "outputs": [
    {
     "output_type": "execute_result",
     "data": {
      "text/plain": [
       "[]"
      ]
     },
     "metadata": {},
     "execution_count": 23
    }
   ]
  },
  {
   "cell_type": "code",
   "source": [
    "!cat /content/Andrews-Min1/manifest.xml"
   ],
   "metadata": {
    "colab": {
     "base_uri": "https://localhost:8080/"
    },
    "id": "i9DVYOGxb3wA",
    "outputId": "54debab6-d564-475b-ff1c-d161732a0424"
   },
   "execution_count": null,
   "outputs": [
    {
     "output_type": "stream",
     "name": "stdout",
     "text": [
      "cat: /content/Andrews-Min1/manifest.xml: No such file or directory\n"
     ]
    }
   ]
  },
  {
   "cell_type": "code",
   "source": [
    "len(thumbnails)"
   ],
   "metadata": {
    "colab": {
     "base_uri": "https://localhost:8080/",
     "height": 179
    },
    "id": "uvjU6zmNQSbP",
    "outputId": "ba61c60f-3f92-4196-ca54-a73e4bf8ce85"
   },
   "execution_count": null,
   "outputs": [
    {
     "output_type": "error",
     "ename": "NameError",
     "evalue": "name 'thumbnails' is not defined",
     "traceback": [
      "\u001B[0;31m---------------------------------------------------------------------------\u001B[0m",
      "\u001B[0;31mNameError\u001B[0m                                 Traceback (most recent call last)",
      "\u001B[0;32m<ipython-input-25-7f3c83b43e99>\u001B[0m in \u001B[0;36m<cell line: 1>\u001B[0;34m()\u001B[0m\n\u001B[0;32m----> 1\u001B[0;31m \u001B[0mlen\u001B[0m\u001B[0;34m(\u001B[0m\u001B[0mthumbnails\u001B[0m\u001B[0;34m)\u001B[0m\u001B[0;34m\u001B[0m\u001B[0;34m\u001B[0m\u001B[0m\n\u001B[0m",
      "\u001B[0;31mNameError\u001B[0m: name 'thumbnails' is not defined"
     ]
    }
   ]
  },
  {
   "cell_type": "code",
   "source": [
    "# remove sed file and upload the working one (OR CHECK THAT ALL DATA IDS ARE SEAMLESS)\n",
    "if os.path.exists('/content/Andrews-Min1-PUBLICATION/simulation.sedml'):\n",
    "    os.remove('/content/Andrews-Min1-PUBLICATION/simulation.sedml')\n",
    "\n",
    "print('upload the working sedml')\n",
    "files.upload()\n",
    "\n",
    "!mv /content/simulation.sedml /content/Andrews-Min1-PUBLICATION"
   ],
   "metadata": {
    "colab": {
     "base_uri": "https://localhost:8080/",
     "height": 101
    },
    "id": "q1PSin9gT1gI",
    "outputId": "a5f6b93d-7476-434c-eaf3-3372072e385d"
   },
   "execution_count": null,
   "outputs": [
    {
     "output_type": "stream",
     "name": "stdout",
     "text": [
      "upload the working sedml\n"
     ]
    },
    {
     "output_type": "display_data",
     "data": {
      "text/plain": [
       "<IPython.core.display.HTML object>"
      ],
      "text/html": [
       "\n",
       "     <input type=\"file\" id=\"files-f50c8fdd-c0d3-489c-b06f-d8b4aacc7156\" name=\"files[]\" multiple disabled\n",
       "        style=\"border:none\" />\n",
       "     <output id=\"result-f50c8fdd-c0d3-489c-b06f-d8b4aacc7156\">\n",
       "      Upload widget is only available when the cell has been executed in the\n",
       "      current browser session. Please rerun this cell to enable.\n",
       "      </output>\n",
       "      <script>// Copyright 2017 Google LLC\n",
       "//\n",
       "// Licensed under the Apache License, Version 2.0 (the \"License\");\n",
       "// you may not use this file except in compliance with the License.\n",
       "// You may obtain a copy of the License at\n",
       "//\n",
       "//      http://www.apache.org/licenses/LICENSE-2.0\n",
       "//\n",
       "// Unless required by applicable law or agreed to in writing, software\n",
       "// distributed under the License is distributed on an \"AS IS\" BASIS,\n",
       "// WITHOUT WARRANTIES OR CONDITIONS OF ANY KIND, either express or implied.\n",
       "// See the License for the specific language governing permissions and\n",
       "// limitations under the License.\n",
       "\n",
       "/**\n",
       " * @fileoverview Helpers for google.colab Python module.\n",
       " */\n",
       "(function(scope) {\n",
       "function span(text, styleAttributes = {}) {\n",
       "  const element = document.createElement('span');\n",
       "  element.textContent = text;\n",
       "  for (const key of Object.keys(styleAttributes)) {\n",
       "    element.style[key] = styleAttributes[key];\n",
       "  }\n",
       "  return element;\n",
       "}\n",
       "\n",
       "// Max number of bytes which will be uploaded at a time.\n",
       "const MAX_PAYLOAD_SIZE = 100 * 1024;\n",
       "\n",
       "function _uploadFiles(inputId, outputId) {\n",
       "  const steps = uploadFilesStep(inputId, outputId);\n",
       "  const outputElement = document.getElementById(outputId);\n",
       "  // Cache steps on the outputElement to make it available for the next call\n",
       "  // to uploadFilesContinue from Python.\n",
       "  outputElement.steps = steps;\n",
       "\n",
       "  return _uploadFilesContinue(outputId);\n",
       "}\n",
       "\n",
       "// This is roughly an async generator (not supported in the browser yet),\n",
       "// where there are multiple asynchronous steps and the Python side is going\n",
       "// to poll for completion of each step.\n",
       "// This uses a Promise to block the python side on completion of each step,\n",
       "// then passes the result of the previous step as the input to the next step.\n",
       "function _uploadFilesContinue(outputId) {\n",
       "  const outputElement = document.getElementById(outputId);\n",
       "  const steps = outputElement.steps;\n",
       "\n",
       "  const next = steps.next(outputElement.lastPromiseValue);\n",
       "  return Promise.resolve(next.value.promise).then((value) => {\n",
       "    // Cache the last promise value to make it available to the next\n",
       "    // step of the generator.\n",
       "    outputElement.lastPromiseValue = value;\n",
       "    return next.value.response;\n",
       "  });\n",
       "}\n",
       "\n",
       "/**\n",
       " * Generator function which is called between each async step of the upload\n",
       " * process.\n",
       " * @param {string} inputId Element ID of the input file picker element.\n",
       " * @param {string} outputId Element ID of the output display.\n",
       " * @return {!Iterable<!Object>} Iterable of next steps.\n",
       " */\n",
       "function* uploadFilesStep(inputId, outputId) {\n",
       "  const inputElement = document.getElementById(inputId);\n",
       "  inputElement.disabled = false;\n",
       "\n",
       "  const outputElement = document.getElementById(outputId);\n",
       "  outputElement.innerHTML = '';\n",
       "\n",
       "  const pickedPromise = new Promise((resolve) => {\n",
       "    inputElement.addEventListener('change', (e) => {\n",
       "      resolve(e.target.files);\n",
       "    });\n",
       "  });\n",
       "\n",
       "  const cancel = document.createElement('button');\n",
       "  inputElement.parentElement.appendChild(cancel);\n",
       "  cancel.textContent = 'Cancel upload';\n",
       "  const cancelPromise = new Promise((resolve) => {\n",
       "    cancel.onclick = () => {\n",
       "      resolve(null);\n",
       "    };\n",
       "  });\n",
       "\n",
       "  // Wait for the user to pick the files.\n",
       "  const files = yield {\n",
       "    promise: Promise.race([pickedPromise, cancelPromise]),\n",
       "    response: {\n",
       "      action: 'starting',\n",
       "    }\n",
       "  };\n",
       "\n",
       "  cancel.remove();\n",
       "\n",
       "  // Disable the input element since further picks are not allowed.\n",
       "  inputElement.disabled = true;\n",
       "\n",
       "  if (!files) {\n",
       "    return {\n",
       "      response: {\n",
       "        action: 'complete',\n",
       "      }\n",
       "    };\n",
       "  }\n",
       "\n",
       "  for (const file of files) {\n",
       "    const li = document.createElement('li');\n",
       "    li.append(span(file.name, {fontWeight: 'bold'}));\n",
       "    li.append(span(\n",
       "        `(${file.type || 'n/a'}) - ${file.size} bytes, ` +\n",
       "        `last modified: ${\n",
       "            file.lastModifiedDate ? file.lastModifiedDate.toLocaleDateString() :\n",
       "                                    'n/a'} - `));\n",
       "    const percent = span('0% done');\n",
       "    li.appendChild(percent);\n",
       "\n",
       "    outputElement.appendChild(li);\n",
       "\n",
       "    const fileDataPromise = new Promise((resolve) => {\n",
       "      const reader = new FileReader();\n",
       "      reader.onload = (e) => {\n",
       "        resolve(e.target.result);\n",
       "      };\n",
       "      reader.readAsArrayBuffer(file);\n",
       "    });\n",
       "    // Wait for the data to be ready.\n",
       "    let fileData = yield {\n",
       "      promise: fileDataPromise,\n",
       "      response: {\n",
       "        action: 'continue',\n",
       "      }\n",
       "    };\n",
       "\n",
       "    // Use a chunked sending to avoid message size limits. See b/62115660.\n",
       "    let position = 0;\n",
       "    do {\n",
       "      const length = Math.min(fileData.byteLength - position, MAX_PAYLOAD_SIZE);\n",
       "      const chunk = new Uint8Array(fileData, position, length);\n",
       "      position += length;\n",
       "\n",
       "      const base64 = btoa(String.fromCharCode.apply(null, chunk));\n",
       "      yield {\n",
       "        response: {\n",
       "          action: 'append',\n",
       "          file: file.name,\n",
       "          data: base64,\n",
       "        },\n",
       "      };\n",
       "\n",
       "      let percentDone = fileData.byteLength === 0 ?\n",
       "          100 :\n",
       "          Math.round((position / fileData.byteLength) * 100);\n",
       "      percent.textContent = `${percentDone}% done`;\n",
       "\n",
       "    } while (position < fileData.byteLength);\n",
       "  }\n",
       "\n",
       "  // All done.\n",
       "  yield {\n",
       "    response: {\n",
       "      action: 'complete',\n",
       "    }\n",
       "  };\n",
       "}\n",
       "\n",
       "scope.google = scope.google || {};\n",
       "scope.google.colab = scope.google.colab || {};\n",
       "scope.google.colab._files = {\n",
       "  _uploadFiles,\n",
       "  _uploadFilesContinue,\n",
       "};\n",
       "})(self);\n",
       "</script> "
      ]
     },
     "metadata": {}
    },
    {
     "output_type": "stream",
     "name": "stdout",
     "text": [
      "Saving simulation.sedml to simulation.sedml\n"
     ]
    }
   ]
  },
  {
   "cell_type": "code",
   "source": [
    "archive.contents"
   ],
   "metadata": {
    "colab": {
     "base_uri": "https://localhost:8080/"
    },
    "id": "m2QkQorvQEvD",
    "outputId": "f5858b27-c94f-476e-e534-b982d0124685"
   },
   "execution_count": null,
   "outputs": [
    {
     "output_type": "execute_result",
     "data": {
      "text/plain": [
       "[]"
      ]
     },
     "metadata": {},
     "execution_count": 27
    }
   ]
  },
  {
   "cell_type": "code",
   "source": [
    "\"\"\"Ensure that the archive contents are empty\"\"\"\n",
    "\n",
    "\n",
    "archive.contents.append(CombineArchiveContent(\n",
    "    location='model.txt',\n",
    "    format=CombineArchiveContentFormat.Smoldyn.value\n",
    "))\n",
    "\n",
    "# add the SED-ML file to the archive\n",
    "archive.contents.append(CombineArchiveContent(\n",
    "    location='simulation.sedml',\n",
    "    format=CombineArchiveContentFormat.SED_ML.value,\n",
    "    master=True,\n",
    "))\n",
    "\n",
    "# add the RDF metadata file to the archive\n",
    "archive.contents.append(CombineArchiveContent(\n",
    "    location='metadata.rdf',\n",
    "    format=CombineArchiveContentFormat.OMEX_METADATA.value,\n",
    "))\n",
    "\n",
    "# add thumbnails to the archive\n",
    "'''for thumbnail in thumbnails:\n",
    "    archive.contents.append(CombineArchiveContent(\n",
    "        location=os.path.relpath(thumbnail.filename, archive_dirname),\n",
    "        format=CombineArchiveContentFormat.JPEG.value,\n",
    "    ))'''\n",
    "\n",
    "'''archive.contents.append(CombineArchiveContent(\n",
    "    location='manifest.xml',\n",
    "    format=CombineArchiveContentFormat.OMEX_MANIFEST.value,\n",
    "))\n",
    "'''"
   ],
   "metadata": {
    "id": "F-yKGSqDcFeE",
    "colab": {
     "base_uri": "https://localhost:8080/",
     "height": 44
    },
    "outputId": "ccfb4c09-063f-4453-9c90-f317b9835943"
   },
   "execution_count": null,
   "outputs": [
    {
     "output_type": "execute_result",
     "data": {
      "text/plain": [
       "\"archive.contents.append(CombineArchiveContent(\\n    location='manifest.xml',\\n    format=CombineArchiveContentFormat.OMEX_MANIFEST.value,\\n))\\n\""
      ],
      "application/vnd.google.colaboratory.intrinsic+json": {
       "type": "string"
      }
     },
     "metadata": {},
     "execution_count": 31
    }
   ]
  },
  {
   "cell_type": "code",
   "source": [
    "archive.contents = []"
   ],
   "metadata": {
    "id": "kAOin6xzQof1"
   },
   "execution_count": null,
   "outputs": []
  },
  {
   "cell_type": "code",
   "source": [
    "print([c.location for c in archive.contents])"
   ],
   "metadata": {
    "colab": {
     "base_uri": "https://localhost:8080/"
    },
    "id": "SoqR5rU5QYmD",
    "outputId": "86081b5d-3e56-4f55-900d-b69f580aad6c"
   },
   "execution_count": null,
   "outputs": [
    {
     "output_type": "stream",
     "name": "stdout",
     "text": [
      "['model.txt', 'simulation.sedml', 'metadata.rdf']\n"
     ]
    }
   ]
  },
  {
   "cell_type": "code",
   "source": [
    "from biosimulators_utils.combine.io import CombineArchiveWriter\n",
    "\n",
    "manifest_fn = os.path.join(archive_dirname, 'manifest.xml')\n",
    "\n",
    "if os.path.exists(manifest_fn):\n",
    "    os.remove(manifest_fn)\n",
    "\n",
    "writer = CombineArchiveWriter()\n",
    "\n",
    "\n",
    "writer.write_manifest(archive.contents, manifest_fn)"
   ],
   "metadata": {
    "id": "4yYpls4a1Q7O"
   },
   "execution_count": null,
   "outputs": []
  },
  {
   "cell_type": "code",
   "source": [
    "!cat /content/Andrews-Min1-PUBLICATION/manifest.xml"
   ],
   "metadata": {
    "colab": {
     "base_uri": "https://localhost:8080/"
    },
    "id": "Bfa0nPcmfrWS",
    "outputId": "389b8266-855a-4ed4-e24e-07f0b62cbcf2"
   },
   "execution_count": null,
   "outputs": [
    {
     "output_type": "stream",
     "name": "stdout",
     "text": [
      "<?xml version=\"1.0\" encoding=\"UTF-8\"?>\n",
      "<omexManifest xmlns=\"http://identifiers.org/combine.specifications/omex-manifest\">\n",
      "  <content location=\"model.txt\" format=\"http://purl.org/NET/mediatypes/text/smoldyn+plain\" master=\"false\"/>\n",
      "  <content location=\"simulation.sedml\" format=\"http://identifiers.org/combine.specifications/sed-ml\" master=\"true\"/>\n",
      "  <content location=\"metadata.rdf\" format=\"http://identifiers.org/combine.specifications/omex-metadata\" master=\"false\"/>\n",
      "</omexManifest>\n"
     ]
    }
   ]
  },
  {
   "cell_type": "code",
   "source": [
    "archive_dirname"
   ],
   "metadata": {
    "colab": {
     "base_uri": "https://localhost:8080/",
     "height": 44
    },
    "id": "hifOgPrjQgjZ",
    "outputId": "6c278994-e7ac-47ae-8255-4172856a44b6"
   },
   "execution_count": null,
   "outputs": [
    {
     "output_type": "execute_result",
     "data": {
      "text/plain": [
       "'/content/Andrews-Min1-PUBLICATION'"
      ],
      "application/vnd.google.colaboratory.intrinsic+json": {
       "type": "string"
      }
     },
     "metadata": {},
     "execution_count": 25
    }
   ]
  },
  {
   "cell_type": "code",
   "source": [
    "from biosimulators_utils.combine.io import CombineArchiveWriter\n",
    "\n",
    "archive_filename = '/content/Andrews-Min1-PUBLICATION.omex'\n",
    "CombineArchiveWriter().run(archive, archive_dirname, archive_filename)"
   ],
   "metadata": {
    "id": "MLt6cqIOcpcw"
   },
   "execution_count": null,
   "outputs": []
  },
  {
   "cell_type": "code",
   "source": [
    "from IPython.display import FileLink, FileLinks"
   ],
   "metadata": {
    "id": "VCaAymECcuA1"
   },
   "execution_count": null,
   "outputs": []
  },
  {
   "cell_type": "code",
   "source": [
    "\"\"\"Ensure that there are at least 4 files here: manifest.xml, model.txt, metadata.rdf, simulation.sedml\"\"\"\n",
    "FileLinks(archive_dirname)"
   ],
   "metadata": {
    "colab": {
     "base_uri": "https://localhost:8080/",
     "height": 104
    },
    "id": "Gkeg-2uYc4O_",
    "outputId": "7b476063-ad67-4390-fa72-46d1500f67d7"
   },
   "execution_count": null,
   "outputs": [
    {
     "output_type": "execute_result",
     "data": {
      "text/plain": [
       "/content/Andrews-Min1-PUBLICATION/\n",
       "  simulation.sedml\n",
       "  metadata.rdf\n",
       "  manifest.xml\n",
       "  model.txt"
      ],
      "text/html": [
       "/content/Andrews-Min1-PUBLICATION/<br>\n",
       "&nbsp;&nbsp;<a href='/content/Andrews-Min1-PUBLICATION/simulation.sedml' target='_blank'>simulation.sedml</a><br>\n",
       "&nbsp;&nbsp;<a href='/content/Andrews-Min1-PUBLICATION/metadata.rdf' target='_blank'>metadata.rdf</a><br>\n",
       "&nbsp;&nbsp;<a href='/content/Andrews-Min1-PUBLICATION/manifest.xml' target='_blank'>manifest.xml</a><br>\n",
       "&nbsp;&nbsp;<a href='/content/Andrews-Min1-PUBLICATION/model.txt' target='_blank'>model.txt</a><br>"
      ]
     },
     "metadata": {},
     "execution_count": 37
    }
   ]
  },
  {
   "cell_type": "code",
   "source": [
    "\"\"\"Ensure that there are 4 - 1 (3) files here and not the manifest\"\"\"\n",
    "print([c.location for c in archive.contents])"
   ],
   "metadata": {
    "colab": {
     "base_uri": "https://localhost:8080/"
    },
    "id": "zDukGFdhZG95",
    "outputId": "c4f71ee5-1e92-4acc-8651-32498b7aa703"
   },
   "execution_count": null,
   "outputs": [
    {
     "output_type": "stream",
     "name": "stdout",
     "text": [
      "['model.txt', 'simulation.sedml', 'metadata.rdf']\n"
     ]
    }
   ]
  },
  {
   "cell_type": "code",
   "source": [
    "\"\"\"Verify omex name\"\"\"\n",
    "FileLink(archive_filename)"
   ],
   "metadata": {
    "colab": {
     "base_uri": "https://localhost:8080/",
     "height": 34
    },
    "id": "ZZGeI99zc5-4",
    "outputId": "41744f6f-3490-404a-8f6e-d82deb640e8d"
   },
   "execution_count": null,
   "outputs": [
    {
     "output_type": "execute_result",
     "data": {
      "text/plain": [
       "/content/Andrews-Min1-PUBLICATION.omex"
      ],
      "text/html": [
       "<a href='/content/Andrews-Min1-PUBLICATION.omex' target='_blank'>/content/Andrews-Min1-PUBLICATION.omex</a><br>"
      ]
     },
     "metadata": {},
     "execution_count": 39
    }
   ]
  },
  {
   "cell_type": "code",
   "source": [
    "from biosimulators_utils.config import Config, get_config\n",
    "\n",
    "output_dirname = '/content/Min1-output'\n",
    "os.mkdir(output_dirname)\n",
    "\n",
    "config = get_config()"
   ],
   "metadata": {
    "id": "CqsELuRnc_yo"
   },
   "execution_count": null,
   "outputs": []
  },
  {
   "cell_type": "code",
   "source": [
    "archive_filename"
   ],
   "metadata": {
    "colab": {
     "base_uri": "https://localhost:8080/",
     "height": 44
    },
    "id": "okSKZ18CgF7T",
    "outputId": "a090b77e-1cf1-4d1d-d722-764494978f5f"
   },
   "execution_count": null,
   "outputs": [
    {
     "output_type": "execute_result",
     "data": {
      "text/plain": [
       "'/content/Andrews-Min1-PUBLICATION.omex'"
      ],
      "application/vnd.google.colaboratory.intrinsic+json": {
       "type": "string"
      }
     },
     "metadata": {},
     "execution_count": 41
    }
   ]
  },
  {
   "cell_type": "code",
   "source": [
    "from smoldyn.biosimulators.combine import exec_sedml_docs_in_combine_archive\n",
    "\n",
    "results_smoldyn, _ = exec_sedml_docs_in_combine_archive(\n",
    "    archive_filename,\n",
    "    output_dirname,\n",
    "    config=config\n",
    ")"
   ],
   "metadata": {
    "colab": {
     "base_uri": "https://localhost:8080/",
     "height": 1000
    },
    "id": "dE16REERdJU2",
    "outputId": "7d0c4443-038d-45ba-cdd4-70cc8b5f1d79"
   },
   "execution_count": null,
   "outputs": [
    {
     "output_type": "stream",
     "name": "stdout",
     "text": [
      "/usr/local/lib/python3.10/dist-packages/biosimulators_utils/warnings.py:31: BioSimulatorsWarning: COMBINE/OMEX archive has warnings.\n",
      "  - The manifest does not include its parent COMBINE/OMEX archive. Manifests should include their parent COMBINE/OMEX archives.\n",
      "  warnings.warn(termcolor.colored(message, Colors.warning.value), category)\n",
      "Archive contains 1 SED-ML documents with 1 models, 1 simulations, 1 tasks, 1 reports, and 1 plots:\n",
      "  simulation.sedml:\n",
      "    Tasks (1):\n",
      "      task\n",
      "    Reports (1):\n",
      "      report: 13 data sets\n",
      "    Plots (1):\n",
      "      Figure: 4 curves\n",
      "\n",
      "Executing SED-ML file 1: simulation.sedml ...\n",
      "  Found 1 tasks and 2 outputs:\n",
      "    Tasks:\n",
      "      `task`\n",
      "    Outputs:\n",
      "      `Figure`\n",
      "      `report`\n",
      "  Executing task 1: `task`\n",
      "    Executing simulation ... succeeded\n",
      "    Generating 2 outputs ...\n",
      "      Generating output 1: `report` ... succeeded\n",
      "      Generating output 2: `Figure` .../usr/local/lib/python3.10/dist-packages/biosimulators_utils/warnings.py:31: IllogicalVizWarning: A title could not be inferred for the Y axis because the Y data generators have inconsistent names.\n",
      "  warnings.warn(termcolor.colored(message, Colors.warning.value), category)\n",
      " succeeded\n",
      "\n",
      "  Executed 1 tasks and 2 outputs:\n",
      "    Tasks:\n",
      "      Succeeded: 1\n",
      "      Skipped: 0\n",
      "      Failed: 0\n",
      "    Outputs:\n",
      "      Succeeded: 2\n",
      "      Skipped: 0\n",
      "      Failed: 0\n",
      "\n",
      "Bundling outputs ...\n",
      "Cleaning up ...\n",
      "\n",
      "============= SUMMARY =============\n",
      "Executed 1 SED documents:\n",
      "  SED documents (1):\n",
      "    Succeeded: 1\n",
      "    Skipped: 0\n",
      "    Failed: 0\n",
      "  Tasks (1):\n",
      "    Succeeded: 1\n",
      "    Skipped: 0\n",
      "    Failed: 0\n",
      "  Outputs (2):\n",
      "    Succeeded: 2\n",
      "    Skipped: 0\n",
      "    Failed: 0\n"
     ]
    },
    {
     "output_type": "display_data",
     "data": {
      "text/plain": [
       "<Figure size 640x480 with 1 Axes>"
      ],
      "image/png": "[encoded data removed]"
     },
     "metadata": {}
    }
   ]
  },
  {
   "cell_type": "code",
   "source": [
    "from biosimulators_utils.biosimulations.utils import run_simulation_project, publish_simulation_project"
   ],
   "metadata": {
    "id": "wh4dblIlixxr"
   },
   "execution_count": null,
   "outputs": []
  },
  {
   "cell_type": "code",
   "source": [
    "archive_filename = '/content/Andrews-Min1-PUBLICATION.omex'"
   ],
   "metadata": {
    "id": "NpRaHPcknADt"
   },
   "execution_count": null,
   "outputs": []
  },
  {
   "cell_type": "code",
   "source": [
    "\"\"\"Submit the simulation\"\"\"\n",
    "\n",
    "\n",
    "run_id = run_simulation_project(\n",
    "    name=metadata['title'],\n",
    "    filename_or_url=archive_filename,\n",
    "    simulator='smoldyn')"
   ],
   "metadata": {
    "id": "082xc0IEi0Ez"
   },
   "execution_count": null,
   "outputs": []
  },
  {
   "cell_type": "code",
   "source": [
    "print('https://run.biosimulations.org/simulations/' + run_id)"
   ],
   "metadata": {
    "colab": {
     "base_uri": "https://localhost:8080/"
    },
    "id": "znM8Cl2bjJi9",
    "outputId": "d56ce605-f06a-49ae-cbeb-c2c2a5e78e8e"
   },
   "execution_count": null,
   "outputs": [
    {
     "output_type": "stream",
     "name": "stdout",
     "text": [
      "https://run.biosimulations.org/simulations/65c775d44dd9c6ee19067b54\n"
     ]
    }
   ]
  },
  {
   "cell_type": "code",
   "source": [
    "pub_project_id = 'E-coli-Min-plots-ADJUSTED'"
   ],
   "metadata": {
    "id": "K8LNDJUH57zt"
   },
   "execution_count": null,
   "outputs": []
  },
  {
   "cell_type": "code",
   "source": [
    "pub = publish_simulation_project(\n",
    "    run_id=run_id,\n",
    "    project_id=pub_project_id\n",
    ")"
   ],
   "metadata": {
    "id": "B1uWl0q62ekY"
   },
   "execution_count": null,
   "outputs": []
  },
  {
   "cell_type": "code",
   "source": [
    "pub"
   ],
   "metadata": {
    "id": "iKJT9xPI2q8u"
   },
   "execution_count": null,
   "outputs": []
  },
  {
   "cell_type": "code",
   "source": [
    "!pip install networkx"
   ],
   "metadata": {
    "id": "OVOJE6Y72tUK",
    "outputId": "9a2b8980-54e0-497a-e22a-e146aca3a1e0",
    "colab": {
     "base_uri": "https://localhost:8080/"
    }
   },
   "execution_count": null,
   "outputs": [
    {
     "output_type": "stream",
     "name": "stdout",
     "text": [
      "Requirement already satisfied: networkx in /usr/local/lib/python3.10/dist-packages (3.2.1)\n"
     ]
    }
   ]
  },
  {
   "cell_type": "code",
   "source": [],
   "metadata": {
    "id": "iV62VshJqQbJ",
    "ExecuteTime": {
     "end_time": "2024-03-20T23:34:35.738978Z",
     "start_time": "2024-03-20T23:34:35.736310Z"
    }
   },
   "execution_count": 10,
   "outputs": []
  },
  {
   "cell_type": "code",
   "outputs": [],
   "source": [
    "from biosimulators_utils.sedml.data_model import SedDocument\n",
    "from pydantic import BaseModel\n",
    "\n",
    "\n",
    "doc = SedDocument()"
   ],
   "metadata": {
    "collapsed": false,
    "ExecuteTime": {
     "end_time": "2024-03-20T23:35:38.780268Z",
     "start_time": "2024-03-20T23:35:38.777658Z"
    }
   },
   "execution_count": 12
  },
  {
   "cell_type": "code",
   "outputs": [
    {
     "data": {
      "text/plain": "(1, 3, (), (), (), (), (), (), None)"
     },
     "execution_count": 13,
     "metadata": {},
     "output_type": "execute_result"
    }
   ],
   "source": [
    "doc.to_tuple()"
   ],
   "metadata": {
    "collapsed": false,
    "ExecuteTime": {
     "end_time": "2024-03-20T23:35:42.216562Z",
     "start_time": "2024-03-20T23:35:42.213734Z"
    }
   },
   "execution_count": 13
  },
  {
   "cell_type": "code",
   "outputs": [
    {
     "name": "stdout",
     "output_type": "stream",
     "text": [
      "['_abc_impl', 'data_generators', 'is_equal', 'level', 'metadata', 'models', 'outputs', 'simulations', 'styles', 'tasks', 'to_tuple', 'version']\n"
     ]
    }
   ],
   "source": [
    "filtered_attributes = [attr for attr in dir(doc) if not attr.startswith('__')]\n",
    "\n",
    "print(filtered_attributes)"
   ],
   "metadata": {
    "collapsed": false,
    "ExecuteTime": {
     "end_time": "2024-03-20T23:41:42.023963Z",
     "start_time": "2024-03-20T23:41:42.015726Z"
    }
   },
   "execution_count": 14
  },
  {
   "cell_type": "code",
   "outputs": [
    {
     "data": {
      "text/plain": "{'level': 1,\n 'version': 3,\n 'models': [],\n 'simulations': [],\n 'tasks': [],\n 'data_generators': [],\n 'outputs': [],\n 'styles': [],\n 'metadata': None}"
     },
     "execution_count": 15,
     "metadata": {},
     "output_type": "execute_result"
    }
   ],
   "source": [
    "doc.__dict__"
   ],
   "metadata": {
    "collapsed": false,
    "ExecuteTime": {
     "end_time": "2024-03-20T23:42:23.875247Z",
     "start_time": "2024-03-20T23:42:23.872254Z"
    }
   },
   "execution_count": 15
  },
  {
   "cell_type": "code",
   "outputs": [],
   "source": [],
   "metadata": {
    "collapsed": false
   }
  }
 ]
}
